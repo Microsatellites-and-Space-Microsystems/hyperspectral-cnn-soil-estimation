{
 "cells": [
  {
   "cell_type": "markdown",
   "metadata": {
    "id": "oUFdX44RdE88"
   },
   "source": [
    "This notebook provides a comprehensive guide for building and training a neural network using the methodology we developed during the competition. In addition, the final section of the notebook demonstrates how to perform inference and generate a valid log for submission."
   ]
  },
  {
   "cell_type": "markdown",
   "metadata": {
    "id": "4bjpCRsteiGi"
   },
   "source": [
    "# Download dataset"
   ]
  },
  {
   "cell_type": "markdown",
   "metadata": {
    "id": "9pH-6M5NdsFj"
   },
   "source": [
    "Download the dataset in TFRecord file format. Alternatively, create your own train/test files exploiting the notebook `convert_dataset_to_TFRecords.ipynb` in the folder `convert_to_TFRecord`."
   ]
  },
  {
   "cell_type": "code",
   "execution_count": null,
   "metadata": {
    "colab": {
     "base_uri": "https://localhost:8080/"
    },
    "executionInfo": {
     "elapsed": 532660,
     "status": "ok",
     "timestamp": 1679176201230,
     "user": {
      "displayName": "Sistemi Spaziali",
      "userId": "03880471792653564924"
     },
     "user_tz": -60
    },
    "id": "zEJarcCYQUlO",
    "outputId": "2b9267b1-b1ae-456d-9b72-b529715c73c9"
   },
   "outputs": [],
   "source": [
    "%cd\n",
    "%cd hyperspectral-cnn-soil-estimation/dataset\n",
    "\n",
    "#Challenge train set: will be used for training and validation\n",
    "!gdown https://drive.google.com/uc?id=1wD3vKqKEFh6OfrfLNtOENF-lbe4auQDb\n",
    "\n",
    "#Challenge test set: no labels are provided, will be used for making inference\n",
    "!gdown https://drive.google.com/uc?id=1XPaSRHsGHGkLieZnR6cU8-Bwg6_1kCTj\n",
    "\n",
    "%cd"
   ]
  },
  {
   "cell_type": "markdown",
   "metadata": {
    "id": "KfsHjNylePr7"
   },
   "source": [
    "# Define dataset paths"
   ]
  },
  {
   "cell_type": "markdown",
   "metadata": {
    "id": "2D5NU0ZSJ3Xf"
   },
   "source": [
    "Navigate to the working directory."
   ]
  },
  {
   "cell_type": "code",
   "execution_count": 1,
   "metadata": {
    "colab": {
     "base_uri": "https://localhost:8080/"
    },
    "executionInfo": {
     "elapsed": 10,
     "status": "ok",
     "timestamp": 1679259061935,
     "user": {
      "displayName": "Sistemi Spaziali",
      "userId": "03880471792653564924"
     },
     "user_tz": -60
    },
    "id": "OE9gS6QyJ2zt",
    "outputId": "72ccb365-0593-4bb3-a5e7-518df6c757c6"
   },
   "outputs": [
    {
     "name": "stdout",
     "output_type": "stream",
     "text": [
      "/home/microsat\n",
      "/home/microsat/hyperspectral-cnn-soil-estimation\n"
     ]
    }
   ],
   "source": [
    "%cd\n",
    "%cd hyperspectral-cnn-soil-estimation"
   ]
  },
  {
   "cell_type": "code",
   "execution_count": 2,
   "metadata": {
    "executionInfo": {
     "elapsed": 3,
     "status": "ok",
     "timestamp": 1679259062933,
     "user": {
      "displayName": "Sistemi Spaziali",
      "userId": "03880471792653564924"
     },
     "user_tz": -60
    },
    "id": "o2h0RGrVPVIe"
   },
   "outputs": [],
   "source": [
    "train_set_path = 'dataset/train_tfrecords0.record'\n",
    "test_set_path = 'dataset/test_tfrecords0.record'"
   ]
  },
  {
   "cell_type": "markdown",
   "metadata": {
    "id": "r-Y9IEKUevT6"
   },
   "source": [
    "# Import required libraries and functions"
   ]
  },
  {
   "cell_type": "markdown",
   "metadata": {
    "id": "nktdY6WpeYai"
   },
   "source": [
    "Import libraries and set random seeds."
   ]
  },
  {
   "cell_type": "code",
   "execution_count": 3,
   "metadata": {
    "colab": {
     "base_uri": "https://localhost:8080/"
    },
    "executionInfo": {
     "elapsed": 1153,
     "status": "ok",
     "timestamp": 1679259065221,
     "user": {
      "displayName": "Sistemi Spaziali",
      "userId": "03880471792653564924"
     },
     "user_tz": -60
    },
    "id": "Ker0Hmm5PtR9",
    "outputId": "ef38bb83-0efd-4a29-eb4a-219b15548de0"
   },
   "outputs": [],
   "source": [
    "import matplotlib.pyplot as plt\n",
    "import pandas as pd\n",
    "import os, zipfile, logging\n",
    "logging.disable(logging.WARNING)\n",
    "os.environ[\"TF_CPP_MIN_LOG_LEVEL\"] = \"3\"\n",
    "import random as rn\n",
    "rn.seed(2)\n",
    "import numpy as np\n",
    "np.random.seed(3)\n",
    "SEED = 7231\n",
    "os.environ['PYTHONHASHSEED'] = str(SEED)\n",
    "os.environ['TF_ENABLE_ONEDNN_OPTS'] = '0'\n",
    "\n",
    "#Disable GPU\n",
    "#os.environ[\"CUDA_VISIBLE_DEVICES\"] = \"-1\"\n",
    "\n",
    "#Enable full deterministic operations\n",
    "#This options slows down the training process remarkably but it allows to get \n",
    "#deterministic results through different runs of the code\n",
    "#note that results might differ on different hardware (cpu vs gpu) and on different computers\n",
    "os.environ['TF_DETERMINISTIC_OPS'] = '1'\n",
    "\n",
    "import tensorflow as tf\n",
    "from dataset_processing import *\n",
    "from efficientnet_lite import EfficientNetLiteB0mod\n",
    "import tensorflow.keras.layers as layers\n",
    "\n",
    "tf.random.set_seed(1)\n",
    "\n",
    "AUTO = tf.data.AUTOTUNE "
   ]
  },
  {
   "cell_type": "markdown",
   "metadata": {
    "id": "JUzhdRa5eZhT"
   },
   "source": [
    "# Define training hyperparameters"
   ]
  },
  {
   "cell_type": "code",
   "execution_count": 4,
   "metadata": {
    "executionInfo": {
     "elapsed": 1176,
     "status": "ok",
     "timestamp": 1679259127319,
     "user": {
      "displayName": "Sistemi Spaziali",
      "userId": "03880471792653564924"
     },
     "user_tz": -60
    },
    "id": "SOc1Fc64L9u-"
   },
   "outputs": [],
   "source": [
    "noise_std = 0.05\n",
    "epochs = 300\n",
    "batch_size = 32\n",
    "target_image_size = 32\n",
    "start_lr = 0.005 \n",
    "network_name = 'cnn_final'\n",
    "\n",
    "label_normalization_mode = 0 # 0 for minmax normalization, everything else for standard normalization\n",
    "\n",
    "###########################################################\n",
    "max_reflectance = 6315\n",
    "test_set_len = 1153\n",
    "max_labels = [325., 625., 400., 14.]\n",
    "std_labels = [29.496254, 61.874084, 39.860474, 0.2602235]\n",
    "mean_labels = [70.30264, 227.98851, 159.28125, 6.782706]\n",
    "train_set_len = len(list(load_tf_records(train_set_path)))\n",
    "\n",
    "num_train_images = (train_set_len//batch_size)*batch_size"
   ]
  },
  {
   "cell_type": "markdown",
   "metadata": {
    "id": "PtNPZGe4fjAr"
   },
   "source": [
    "Learning rate scheduling."
   ]
  },
  {
   "cell_type": "code",
   "execution_count": 5,
   "metadata": {
    "colab": {
     "base_uri": "https://localhost:8080/",
     "height": 447
    },
    "executionInfo": {
     "elapsed": 238,
     "status": "ok",
     "timestamp": 1679176251539,
     "user": {
      "displayName": "Sistemi Spaziali",
      "userId": "03880471792653564924"
     },
     "user_tz": -60
    },
    "id": "xgq4Q20lfbia",
    "outputId": "1d254fdc-3cc6-4da7-dc04-d616c9f48bdc"
   },
   "outputs": [
    {
     "name": "stdout",
     "output_type": "stream",
     "text": [
      "Learning rate per epoch:\n"
     ]
    },
    {
     "data": {
      "image/png": "[encoded data removed]",
      "text/plain": [
       "<Figure size 640x480 with 1 Axes>"
      ]
     },
     "metadata": {},
     "output_type": "display_data"
    }
   ],
   "source": [
    "alpha = 0.0001\n",
    "decay_steps = epochs\n",
    "\n",
    "def lr_scheduler(epoch, start_lr):\n",
    "    if epoch < 1:\n",
    "      lr = (start_lr-0.001)/1*epoch+0.001\n",
    "    else:\n",
    "      cosine_decay = 0.5 * (1 + tf.cos(np.pi * epoch / (decay_steps)))\n",
    "      decayed = (1 - alpha) * cosine_decay + alpha\n",
    "      lr = start_lr * decayed\n",
    "    return lr\n",
    "\n",
    "lr_callback = tf.keras.callbacks.LearningRateScheduler(lambda epoch: lr_scheduler(epoch, start_lr), verbose=0)\n",
    "\n",
    "#Plot learning rate\n",
    "\n",
    "x_range = np.arange(epochs)\n",
    "y = [lr_scheduler(x, start_lr) for x in x_range]\n",
    "plt.plot(x_range, y)\n",
    "print('Learning rate per epoch:')"
   ]
  },
  {
   "cell_type": "markdown",
   "metadata": {
    "id": "razlKuZYhNPK"
   },
   "source": [
    "# Define saving paths"
   ]
  },
  {
   "cell_type": "code",
   "execution_count": 6,
   "metadata": {
    "executionInfo": {
     "elapsed": 2,
     "status": "ok",
     "timestamp": 1679259138603,
     "user": {
      "displayName": "Sistemi Spaziali",
      "userId": "03880471792653564924"
     },
     "user_tz": -60
    },
    "id": "pemlGtg8hMFy"
   },
   "outputs": [],
   "source": [
    "base_path = 'networks/'\n",
    "\n",
    "saved_model_filepath = base_path + network_name \n",
    "h5_filepath = saved_model_filepath + '/'+network_name+'.h5'\n",
    "submission_name = 'submission_files/sumbission_' + network_name + '.csv'\n",
    "submission_zip = 'submission_files/sumbission_' + network_name + '.zip'"
   ]
  },
  {
   "cell_type": "markdown",
   "metadata": {
    "id": "FW0ms1FTfBMs"
   },
   "source": [
    "# Build the neural network"
   ]
  },
  {
   "cell_type": "markdown",
   "metadata": {
    "id": "hFitZcYSkkEZ"
   },
   "source": [
    "Define a custom metric reflecting the competition scoring."
   ]
  },
  {
   "cell_type": "code",
   "execution_count": 7,
   "metadata": {
    "executionInfo": {
     "elapsed": 2,
     "status": "ok",
     "timestamp": 1679259142147,
     "user": {
      "displayName": "Sistemi Spaziali",
      "userId": "03880471792653564924"
     },
     "user_tz": -60
    },
    "id": "tEzCX8v9kjg6"
   },
   "outputs": [],
   "source": [
    "def custom_metric(y_true, y_pred):\n",
    "    y_true = tf.cond(tf.math.equal(label_normalization_mode,0), \n",
    "                     lambda: tf.multiply(y_true, max_labels),\n",
    "                     lambda: tf.multiply(y_true, std_labels)+mean_labels)\n",
    "    y_pred = tf.cond(tf.math.equal(label_normalization_mode,0), \n",
    "                     lambda: tf.multiply(y_pred, max_labels),\n",
    "                     lambda: tf.multiply(y_pred, std_labels)+mean_labels)\n",
    "    \n",
    "    mse = tf.reduce_mean((y_true-y_pred)**2, axis=0)\n",
    "    mse_baseline = [870.02899169921875, 3828.40234375, 1588.857421875, 0.0677162706851959228515625]\n",
    "    score = tf.reduce_mean(mse/mse_baseline)\n",
    "\n",
    "    return score"
   ]
  },
  {
   "cell_type": "code",
   "execution_count": 8,
   "metadata": {
    "colab": {
     "base_uri": "https://localhost:8080/"
    },
    "executionInfo": {
     "elapsed": 386,
     "status": "ok",
     "timestamp": 1679259143654,
     "user": {
      "displayName": "Sistemi Spaziali",
      "userId": "03880471792653564924"
     },
     "user_tz": -60
    },
    "id": "5Gpt_v7ErF3M",
    "outputId": "a13bf889-8648-4d99-ef5b-1cc0825c871e"
   },
   "outputs": [
    {
     "name": "stdout",
     "output_type": "stream",
     "text": [
      "Model: \"sequential\"\n",
      "_________________________________________________________________\n",
      " Layer (type)                Output Shape              Param #   \n",
      "=================================================================\n",
      " efficientnetlite0mod (Funct  (None, 1, 1, 1280)       728896    \n",
      " ional)                                                          \n",
      "                                                                 \n",
      " flatten (Flatten)           (None, 1280)              0         \n",
      "                                                                 \n",
      " dense (Dense)               (None, 4)                 5124      \n",
      "                                                                 \n",
      "=================================================================\n",
      "Total params: 734,020\n",
      "Trainable params: 719,780\n",
      "Non-trainable params: 14,240\n",
      "_________________________________________________________________\n"
     ]
    }
   ],
   "source": [
    "backbone = EfficientNetLiteB0mod(input_shape=(target_image_size, target_image_size, 150),\n",
    "                                   width_coefficient=0.5,\n",
    "                                   depth_coefficient=0.5,\n",
    "                                   dropout_rate=0.1\n",
    "                                   )\n",
    "\n",
    "model = tf.keras.Sequential([backbone,  \n",
    "                                layers.Flatten(),\n",
    "                                layers.Dense(4, kernel_initializer=tf.keras.initializers.GlorotUniform(seed=1509))])\n",
    "\n",
    "\n",
    "model.compile(\n",
    "    optimizer=tf.keras.optimizers.Adam(clipnorm=1.),\n",
    "    loss='mse',\n",
    "    metrics=[custom_metric],\n",
    "  )\n",
    "\n",
    "#Initialize the model with the same weights we employed during the competition\n",
    "model.load_weights('efficientnet_lite/initialization_weigths.h5')\n",
    "model.summary()"
   ]
  },
  {
   "cell_type": "markdown",
   "metadata": {
    "id": "ROfL1mCYfXhS"
   },
   "source": [
    "# Dataset preprocessing"
   ]
  },
  {
   "cell_type": "code",
   "execution_count": 9,
   "metadata": {
    "id": "QZSuhqwiwrbU"
   },
   "outputs": [],
   "source": [
    "steps_per_epoch = num_train_images//batch_size\n",
    "\n",
    "ds = load_tf_records(train_set_path).map(decode_dataset_train_val, num_parallel_calls=AUTO,deterministic=True)\n",
    "ds = ds.shuffle(train_set_len, seed=1860)\n",
    "\n",
    "#Train\n",
    "train_data = ds.take(num_train_images)\n",
    "train_data = train_data.map(lambda patch, label, height, width: normalize_train_val(patch, label, height, width, max_reflectance, max_labels, mean_labels, std_labels, label_normalization_mode), num_parallel_calls=AUTO,deterministic=True).cache()    #normalize train dataset\n",
    "train_data = train_data.shuffle(num_train_images, seed=1866)    #shuffle train dataset\n",
    "train_data = train_data.map(lambda patch, label, height, width: augment_train(patch, label, height, width,target_image_size,noise_std), num_parallel_calls=AUTO,deterministic=True)    \n",
    "train_data = train_data.batch(batch_size=batch_size, drop_remainder=True)    #batch train dataset\n",
    "train_data = train_data.prefetch(AUTO)    #prefetch train dataset\n",
    "\n",
    "#Validation\n",
    "val_data_raw = ds.skip(num_train_images).cache()    #create a small validation dataset from the last elements of the train dataset that are discarded during batching\n",
    "val_data = val_data_raw.map(lambda patch, label, height, width: normalize_train_val(patch, label, height, width, max_reflectance, max_labels, mean_labels, std_labels, label_normalization_mode), num_parallel_calls=AUTO).cache()    #normalize validation dataset \n",
    "val_data = val_data.map(lambda patch, label, height, width: preprocess_val(patch, label, height, width,target_image_size), num_parallel_calls=AUTO)    #pad validation dataset\n",
    "val_data = val_data.repeat()\n",
    "val_data = val_data.batch(batch_size=batch_size, drop_remainder=True)    #batch validation dataset\n",
    "val_data = val_data.prefetch(AUTO)    #prefetch validation dataset"
   ]
  },
  {
   "cell_type": "markdown",
   "metadata": {
    "id": "91TlJzx4fu9L"
   },
   "source": [
    "Display few samples from train dataset."
   ]
  },
  {
   "cell_type": "code",
   "execution_count": 10,
   "metadata": {
    "colab": {
     "base_uri": "https://localhost:8080/",
     "height": 1000
    },
    "executionInfo": {
     "elapsed": 2464,
     "status": "ok",
     "timestamp": 1679176263525,
     "user": {
      "displayName": "Sistemi Spaziali",
      "userId": "03880471792653564924"
     },
     "user_tz": -60
    },
    "id": "bNHLlotAX40k",
    "outputId": "430d1c08-e4d9-415c-a9d9-17fbde76e4cc"
   },
   "outputs": [
    {
     "data": {
      "image/png": "[encoded data removed]",
      "text/plain": [
       "<Figure size 640x480 with 1 Axes>"
      ]
     },
     "metadata": {},
     "output_type": "display_data"
    },
    {
     "data": {
      "image/png": "[encoded data removed]",
      "text/plain": [
       "<Figure size 640x480 with 1 Axes>"
      ]
     },
     "metadata": {},
     "output_type": "display_data"
    },
    {
     "data": {
      "image/png": "[encoded data removed]",
      "text/plain": [
       "<Figure size 640x480 with 1 Axes>"
      ]
     },
     "metadata": {},
     "output_type": "display_data"
    },
    {
     "data": {
      "image/png": "[encoded data removed]",
      "text/plain": [
       "<Figure size 640x480 with 1 Axes>"
      ]
     },
     "metadata": {},
     "output_type": "display_data"
    },
    {
     "data": {
      "image/png": "[encoded data removed]",
      "text/plain": [
       "<Figure size 640x480 with 1 Axes>"
      ]
     },
     "metadata": {},
     "output_type": "display_data"
    },
    {
     "data": {
      "image/png": "[encoded data removed]",
      "text/plain": [
       "<Figure size 640x480 with 1 Axes>"
      ]
     },
     "metadata": {},
     "output_type": "display_data"
    },
    {
     "data": {
      "image/png": "[encoded data removed]",
      "text/plain": [
       "<Figure size 640x480 with 1 Axes>"
      ]
     },
     "metadata": {},
     "output_type": "display_data"
    },
    {
     "data": {
      "image/png": "[encoded data removed]",
      "text/plain": [
       "<Figure size 640x480 with 1 Axes>"
      ]
     },
     "metadata": {},
     "output_type": "display_data"
    },
    {
     "data": {
      "image/png": "[encoded data removed]",
      "text/plain": [
       "<Figure size 640x480 with 1 Axes>"
      ]
     },
     "metadata": {},
     "output_type": "display_data"
    },
    {
     "data": {
      "image/png": "[encoded data removed]",
      "text/plain": [
       "<Figure size 640x480 with 1 Axes>"
      ]
     },
     "metadata": {},
     "output_type": "display_data"
    }
   ],
   "source": [
    "for image, label in train_data.unbatch().take(10):\n",
    "    plt.imshow(image[:,:,149])\n",
    "    plt.show()    "
   ]
  },
  {
   "cell_type": "markdown",
   "metadata": {
    "id": "WbZBaR-AgE9R"
   },
   "source": [
    "# Train neural network"
   ]
  },
  {
   "cell_type": "code",
   "execution_count": 11,
   "metadata": {},
   "outputs": [
    {
     "name": "stdout",
     "output_type": "stream",
     "text": [
      "Epoch 1/300\n",
      "54/54 [==============================] - 14s 163ms/step - loss: 0.3752 - custom_metric: 290.2100 - val_loss: 0.0939 - val_custom_metric: 97.7853 - lr: 0.0010\n",
      "Epoch 2/300\n",
      "54/54 [==============================] - 7s 121ms/step - loss: 0.2181 - custom_metric: 148.3953 - val_loss: 0.0455 - val_custom_metric: 5.2579 - lr: 0.0050\n",
      "Epoch 3/300\n",
      "54/54 [==============================] - 6s 114ms/step - loss: 0.0392 - custom_metric: 27.7009 - val_loss: 0.0096 - val_custom_metric: 2.5025 - lr: 0.0050\n",
      "Epoch 4/300\n",
      "54/54 [==============================] - 6s 117ms/step - loss: 0.0400 - custom_metric: 22.6821 - val_loss: 0.0195 - val_custom_metric: 5.0404 - lr: 0.0050\n",
      "Epoch 5/300\n",
      "54/54 [==============================] - 6s 114ms/step - loss: 0.0358 - custom_metric: 25.1825 - val_loss: 0.0066 - val_custom_metric: 1.1639 - lr: 0.0050\n",
      "Epoch 6/300\n",
      "54/54 [==============================] - 6s 118ms/step - loss: 0.0348 - custom_metric: 20.5259 - val_loss: 0.0106 - val_custom_metric: 8.6398 - lr: 0.0050\n",
      "Epoch 7/300\n",
      "54/54 [==============================] - 6s 117ms/step - loss: 0.0285 - custom_metric: 12.3327 - val_loss: 0.0093 - val_custom_metric: 1.7717 - lr: 0.0050\n",
      "Epoch 8/300\n",
      "54/54 [==============================] - 6s 114ms/step - loss: 0.0285 - custom_metric: 14.1943 - val_loss: 0.0109 - val_custom_metric: 2.3395 - lr: 0.0050\n",
      "Epoch 9/300\n",
      "54/54 [==============================] - 6s 114ms/step - loss: 0.0539 - custom_metric: 10.7343 - val_loss: 0.0107 - val_custom_metric: 2.1760 - lr: 0.0050\n",
      "Epoch 10/300\n",
      "54/54 [==============================] - 6s 114ms/step - loss: 0.0607 - custom_metric: 31.1109 - val_loss: 0.0224 - val_custom_metric: 3.4224 - lr: 0.0050\n",
      "Epoch 11/300\n",
      "54/54 [==============================] - 6s 114ms/step - loss: 0.0274 - custom_metric: 9.4843 - val_loss: 0.0109 - val_custom_metric: 2.1253 - lr: 0.0050\n",
      "Epoch 12/300\n",
      "54/54 [==============================] - 6s 116ms/step - loss: 0.0314 - custom_metric: 27.1009 - val_loss: 0.0091 - val_custom_metric: 1.7813 - lr: 0.0050\n",
      "Epoch 13/300\n",
      "54/54 [==============================] - 6s 104ms/step - loss: 0.0317 - custom_metric: 15.6470 - val_loss: 0.0178 - val_custom_metric: 2.7916 - lr: 0.0050\n",
      "Epoch 14/300\n",
      "54/54 [==============================] - 6s 108ms/step - loss: 0.0227 - custom_metric: 6.2435 - val_loss: 0.0120 - val_custom_metric: 1.6338 - lr: 0.0050\n",
      "Epoch 15/300\n",
      "54/54 [==============================] - 6s 114ms/step - loss: 0.0283 - custom_metric: 9.5632 - val_loss: 0.0091 - val_custom_metric: 1.2465 - lr: 0.0050\n",
      "Epoch 16/300\n",
      "54/54 [==============================] - 6s 113ms/step - loss: 0.0299 - custom_metric: 17.7923 - val_loss: 0.0127 - val_custom_metric: 2.1005 - lr: 0.0050\n",
      "Epoch 17/300\n",
      "54/54 [==============================] - 6s 117ms/step - loss: 0.0266 - custom_metric: 20.5445 - val_loss: 0.0126 - val_custom_metric: 3.0797 - lr: 0.0050\n",
      "Epoch 18/300\n",
      "54/54 [==============================] - 6s 113ms/step - loss: 0.0486 - custom_metric: 14.2930 - val_loss: 0.0233 - val_custom_metric: 3.6714 - lr: 0.0050\n",
      "Epoch 19/300\n",
      "54/54 [==============================] - 6s 114ms/step - loss: 0.0326 - custom_metric: 9.4583 - val_loss: 0.0145 - val_custom_metric: 2.5658 - lr: 0.0050\n",
      "Epoch 20/300\n",
      "54/54 [==============================] - 6s 113ms/step - loss: 0.0293 - custom_metric: 10.1822 - val_loss: 0.0076 - val_custom_metric: 0.9013 - lr: 0.0050\n",
      "Epoch 21/300\n",
      "54/54 [==============================] - 6s 117ms/step - loss: 0.0258 - custom_metric: 10.0686 - val_loss: 0.0086 - val_custom_metric: 5.8259 - lr: 0.0049\n",
      "Epoch 22/300\n",
      "54/54 [==============================] - 6s 113ms/step - loss: 0.0244 - custom_metric: 4.9882 - val_loss: 0.0129 - val_custom_metric: 2.3877 - lr: 0.0049\n",
      "Epoch 23/300\n",
      "54/54 [==============================] - 6s 113ms/step - loss: 0.0176 - custom_metric: 5.2661 - val_loss: 0.0123 - val_custom_metric: 2.0026 - lr: 0.0049\n",
      "Epoch 24/300\n",
      "54/54 [==============================] - 6s 116ms/step - loss: 0.0201 - custom_metric: 12.3685 - val_loss: 0.0106 - val_custom_metric: 1.3074 - lr: 0.0049\n",
      "Epoch 25/300\n",
      "54/54 [==============================] - 6s 114ms/step - loss: 0.0158 - custom_metric: 13.8327 - val_loss: 0.0087 - val_custom_metric: 1.8364 - lr: 0.0049\n",
      "Epoch 26/300\n",
      "54/54 [==============================] - 6s 114ms/step - loss: 0.0104 - custom_metric: 3.2765 - val_loss: 0.0110 - val_custom_metric: 2.2580 - lr: 0.0049\n",
      "Epoch 27/300\n",
      "54/54 [==============================] - 6s 116ms/step - loss: 0.0142 - custom_metric: 5.3669 - val_loss: 0.0093 - val_custom_metric: 1.3406 - lr: 0.0049\n",
      "Epoch 28/300\n",
      "54/54 [==============================] - 6s 117ms/step - loss: 0.0103 - custom_metric: 3.4787 - val_loss: 0.0104 - val_custom_metric: 1.8289 - lr: 0.0049\n",
      "Epoch 29/300\n",
      "54/54 [==============================] - 6s 114ms/step - loss: 0.0095 - custom_metric: 2.0225 - val_loss: 0.0122 - val_custom_metric: 1.6038 - lr: 0.0049\n",
      "Epoch 30/300\n",
      "54/54 [==============================] - 6s 117ms/step - loss: 0.0100 - custom_metric: 2.4416 - val_loss: 0.0112 - val_custom_metric: 2.1491 - lr: 0.0049\n",
      "Epoch 31/300\n",
      "54/54 [==============================] - 6s 114ms/step - loss: 0.0104 - custom_metric: 2.4274 - val_loss: 0.0088 - val_custom_metric: 1.4186 - lr: 0.0049\n",
      "Epoch 32/300\n",
      "54/54 [==============================] - 6s 114ms/step - loss: 0.0091 - custom_metric: 1.7607 - val_loss: 0.0082 - val_custom_metric: 1.3385 - lr: 0.0049\n",
      "Epoch 33/300\n",
      "54/54 [==============================] - 6s 118ms/step - loss: 0.0080 - custom_metric: 1.3723 - val_loss: 0.0101 - val_custom_metric: 1.4342 - lr: 0.0049\n",
      "Epoch 34/300\n",
      "54/54 [==============================] - 6s 114ms/step - loss: 0.0090 - custom_metric: 1.5803 - val_loss: 0.0120 - val_custom_metric: 2.9320 - lr: 0.0049\n",
      "Epoch 35/300\n",
      "54/54 [==============================] - 6s 114ms/step - loss: 0.0081 - custom_metric: 1.8364 - val_loss: 0.0116 - val_custom_metric: 1.8260 - lr: 0.0048\n",
      "Epoch 36/300\n",
      "54/54 [==============================] - 6s 117ms/step - loss: 0.0085 - custom_metric: 1.6454 - val_loss: 0.0138 - val_custom_metric: 1.8625 - lr: 0.0048\n",
      "Epoch 37/300\n",
      "54/54 [==============================] - 6s 114ms/step - loss: 0.0095 - custom_metric: 3.8117 - val_loss: 0.0105 - val_custom_metric: 1.7852 - lr: 0.0048\n",
      "Epoch 38/300\n",
      "54/54 [==============================] - 6s 114ms/step - loss: 0.0095 - custom_metric: 1.9015 - val_loss: 0.0112 - val_custom_metric: 2.4421 - lr: 0.0048\n",
      "Epoch 39/300\n",
      "54/54 [==============================] - 6s 115ms/step - loss: 0.0091 - custom_metric: 1.7733 - val_loss: 0.0118 - val_custom_metric: 1.7309 - lr: 0.0048\n",
      "Epoch 40/300\n",
      "54/54 [==============================] - 6s 114ms/step - loss: 0.0082 - custom_metric: 1.4123 - val_loss: 0.0116 - val_custom_metric: 1.5287 - lr: 0.0048\n",
      "Epoch 41/300\n",
      "54/54 [==============================] - 6s 116ms/step - loss: 0.0089 - custom_metric: 1.7043 - val_loss: 0.0095 - val_custom_metric: 1.1850 - lr: 0.0048\n",
      "Epoch 42/300\n",
      "54/54 [==============================] - 6s 115ms/step - loss: 0.0081 - custom_metric: 1.6659 - val_loss: 0.0091 - val_custom_metric: 1.2602 - lr: 0.0048\n",
      "Epoch 43/300\n",
      "54/54 [==============================] - 6s 115ms/step - loss: 0.0082 - custom_metric: 1.4798 - val_loss: 0.0099 - val_custom_metric: 1.6592 - lr: 0.0048\n",
      "Epoch 44/300\n",
      "54/54 [==============================] - 6s 115ms/step - loss: 0.0075 - custom_metric: 1.3007 - val_loss: 0.0120 - val_custom_metric: 1.5892 - lr: 0.0048\n",
      "Epoch 45/300\n",
      "54/54 [==============================] - 6s 114ms/step - loss: 0.0077 - custom_metric: 1.2356 - val_loss: 0.0099 - val_custom_metric: 1.3483 - lr: 0.0047\n",
      "Epoch 46/300\n",
      "54/54 [==============================] - 6s 114ms/step - loss: 0.0074 - custom_metric: 1.2984 - val_loss: 0.0104 - val_custom_metric: 1.4254 - lr: 0.0047\n",
      "Epoch 47/300\n",
      "54/54 [==============================] - 6s 116ms/step - loss: 0.0075 - custom_metric: 1.5028 - val_loss: 0.0101 - val_custom_metric: 1.4224 - lr: 0.0047\n",
      "Epoch 48/300\n",
      "54/54 [==============================] - 6s 114ms/step - loss: 0.0075 - custom_metric: 1.3387 - val_loss: 0.0096 - val_custom_metric: 1.3636 - lr: 0.0047\n",
      "Epoch 49/300\n",
      "54/54 [==============================] - 6s 115ms/step - loss: 0.0072 - custom_metric: 1.3202 - val_loss: 0.0112 - val_custom_metric: 1.4161 - lr: 0.0047\n"
     ]
    },
    {
     "name": "stdout",
     "output_type": "stream",
     "text": [
      "Epoch 50/300\n",
      "54/54 [==============================] - 6s 115ms/step - loss: 0.0071 - custom_metric: 1.1518 - val_loss: 0.0119 - val_custom_metric: 1.5348 - lr: 0.0047\n",
      "Epoch 51/300\n",
      "54/54 [==============================] - 6s 114ms/step - loss: 0.0073 - custom_metric: 1.2738 - val_loss: 0.0101 - val_custom_metric: 1.5155 - lr: 0.0047\n",
      "Epoch 52/300\n",
      "54/54 [==============================] - 6s 114ms/step - loss: 0.0071 - custom_metric: 1.1444 - val_loss: 0.0107 - val_custom_metric: 1.3891 - lr: 0.0047\n",
      "Epoch 53/300\n",
      "54/54 [==============================] - 6s 114ms/step - loss: 0.0072 - custom_metric: 1.1631 - val_loss: 0.0120 - val_custom_metric: 1.5469 - lr: 0.0046\n",
      "Epoch 54/300\n",
      "54/54 [==============================] - 6s 114ms/step - loss: 0.0072 - custom_metric: 1.2391 - val_loss: 0.0112 - val_custom_metric: 1.4080 - lr: 0.0046\n",
      "Epoch 55/300\n",
      "54/54 [==============================] - 6s 116ms/step - loss: 0.0071 - custom_metric: 1.1457 - val_loss: 0.0100 - val_custom_metric: 1.2580 - lr: 0.0046\n",
      "Epoch 56/300\n",
      "54/54 [==============================] - 6s 118ms/step - loss: 0.0082 - custom_metric: 1.3765 - val_loss: 0.0097 - val_custom_metric: 1.6503 - lr: 0.0046\n",
      "Epoch 57/300\n",
      "54/54 [==============================] - 6s 116ms/step - loss: 0.0074 - custom_metric: 1.1783 - val_loss: 0.0118 - val_custom_metric: 1.5565 - lr: 0.0046\n",
      "Epoch 58/300\n",
      "54/54 [==============================] - 6s 116ms/step - loss: 0.0071 - custom_metric: 1.1105 - val_loss: 0.0103 - val_custom_metric: 1.4164 - lr: 0.0046\n",
      "Epoch 59/300\n",
      "54/54 [==============================] - 6s 115ms/step - loss: 0.0070 - custom_metric: 1.1195 - val_loss: 0.0114 - val_custom_metric: 1.4829 - lr: 0.0046\n",
      "Epoch 60/300\n",
      "54/54 [==============================] - 6s 113ms/step - loss: 0.0069 - custom_metric: 1.0944 - val_loss: 0.0102 - val_custom_metric: 1.3721 - lr: 0.0045\n",
      "Epoch 61/300\n",
      "54/54 [==============================] - 6s 119ms/step - loss: 0.0069 - custom_metric: 1.0973 - val_loss: 0.0104 - val_custom_metric: 1.3601 - lr: 0.0045\n",
      "Epoch 62/300\n",
      "54/54 [==============================] - 6s 118ms/step - loss: 0.0069 - custom_metric: 1.0794 - val_loss: 0.0110 - val_custom_metric: 1.4598 - lr: 0.0045\n",
      "Epoch 63/300\n",
      "54/54 [==============================] - 7s 121ms/step - loss: 0.0069 - custom_metric: 1.0770 - val_loss: 0.0098 - val_custom_metric: 1.3384 - lr: 0.0045\n",
      "Epoch 64/300\n",
      "54/54 [==============================] - 6s 115ms/step - loss: 0.0067 - custom_metric: 1.0180 - val_loss: 0.0114 - val_custom_metric: 1.4908 - lr: 0.0045\n",
      "Epoch 65/300\n",
      "54/54 [==============================] - 6s 119ms/step - loss: 0.0068 - custom_metric: 1.0044 - val_loss: 0.0090 - val_custom_metric: 1.2677 - lr: 0.0045\n",
      "Epoch 66/300\n",
      "54/54 [==============================] - 6s 118ms/step - loss: 0.0070 - custom_metric: 1.1177 - val_loss: 0.0108 - val_custom_metric: 1.4752 - lr: 0.0044\n",
      "Epoch 67/300\n",
      "54/54 [==============================] - 6s 115ms/step - loss: 0.0068 - custom_metric: 1.0193 - val_loss: 0.0098 - val_custom_metric: 1.3565 - lr: 0.0044\n",
      "Epoch 68/300\n",
      "54/54 [==============================] - 6s 114ms/step - loss: 0.0068 - custom_metric: 1.0329 - val_loss: 0.0100 - val_custom_metric: 1.3023 - lr: 0.0044\n",
      "Epoch 69/300\n",
      "54/54 [==============================] - 6s 117ms/step - loss: 0.0066 - custom_metric: 0.9926 - val_loss: 0.0104 - val_custom_metric: 1.4069 - lr: 0.0044\n",
      "Epoch 70/300\n",
      "54/54 [==============================] - 6s 117ms/step - loss: 0.0068 - custom_metric: 1.0074 - val_loss: 0.0090 - val_custom_metric: 1.2688 - lr: 0.0044\n",
      "Epoch 71/300\n",
      "54/54 [==============================] - 6s 117ms/step - loss: 0.0066 - custom_metric: 0.9788 - val_loss: 0.0091 - val_custom_metric: 1.3061 - lr: 0.0044\n",
      "Epoch 72/300\n",
      "54/54 [==============================] - 6s 113ms/step - loss: 0.0066 - custom_metric: 1.0177 - val_loss: 0.0091 - val_custom_metric: 1.3591 - lr: 0.0043\n",
      "Epoch 73/300\n",
      "54/54 [==============================] - 6s 114ms/step - loss: 0.0066 - custom_metric: 0.9718 - val_loss: 0.0112 - val_custom_metric: 1.4967 - lr: 0.0043\n",
      "Epoch 74/300\n",
      "54/54 [==============================] - 6s 114ms/step - loss: 0.0067 - custom_metric: 0.9823 - val_loss: 0.0100 - val_custom_metric: 1.4797 - lr: 0.0043\n",
      "Epoch 75/300\n",
      "54/54 [==============================] - 6s 114ms/step - loss: 0.0067 - custom_metric: 1.0964 - val_loss: 0.0110 - val_custom_metric: 1.5556 - lr: 0.0043\n",
      "Epoch 76/300\n",
      "54/54 [==============================] - 6s 113ms/step - loss: 0.0066 - custom_metric: 0.9773 - val_loss: 0.0099 - val_custom_metric: 1.3516 - lr: 0.0043\n",
      "Epoch 77/300\n",
      "54/54 [==============================] - 6s 113ms/step - loss: 0.0065 - custom_metric: 0.9641 - val_loss: 0.0102 - val_custom_metric: 1.4363 - lr: 0.0042\n",
      "Epoch 78/300\n",
      "54/54 [==============================] - 6s 113ms/step - loss: 0.0065 - custom_metric: 0.9600 - val_loss: 0.0103 - val_custom_metric: 1.3997 - lr: 0.0042\n",
      "Epoch 79/300\n",
      "54/54 [==============================] - 6s 116ms/step - loss: 0.0065 - custom_metric: 0.9357 - val_loss: 0.0104 - val_custom_metric: 1.4137 - lr: 0.0042\n",
      "Epoch 80/300\n",
      "54/54 [==============================] - 6s 115ms/step - loss: 0.0066 - custom_metric: 0.9945 - val_loss: 0.0099 - val_custom_metric: 1.3744 - lr: 0.0042\n",
      "Epoch 81/300\n",
      "54/54 [==============================] - 6s 115ms/step - loss: 0.0066 - custom_metric: 0.9439 - val_loss: 0.0112 - val_custom_metric: 1.4360 - lr: 0.0042\n",
      "Epoch 82/300\n",
      "54/54 [==============================] - 6s 118ms/step - loss: 0.0066 - custom_metric: 0.9479 - val_loss: 0.0100 - val_custom_metric: 1.3852 - lr: 0.0042\n",
      "Epoch 83/300\n",
      "54/54 [==============================] - 6s 115ms/step - loss: 0.0067 - custom_metric: 0.9548 - val_loss: 0.0092 - val_custom_metric: 1.2688 - lr: 0.0041\n",
      "Epoch 84/300\n",
      "54/54 [==============================] - 6s 114ms/step - loss: 0.0067 - custom_metric: 0.9681 - val_loss: 0.0101 - val_custom_metric: 1.4734 - lr: 0.0041\n",
      "Epoch 85/300\n",
      "54/54 [==============================] - 6s 114ms/step - loss: 0.0068 - custom_metric: 0.9845 - val_loss: 0.0093 - val_custom_metric: 1.2872 - lr: 0.0041\n",
      "Epoch 86/300\n",
      "54/54 [==============================] - 6s 115ms/step - loss: 0.0067 - custom_metric: 0.9737 - val_loss: 0.0112 - val_custom_metric: 1.5022 - lr: 0.0041\n",
      "Epoch 87/300\n",
      "54/54 [==============================] - 6s 115ms/step - loss: 0.0066 - custom_metric: 0.9582 - val_loss: 0.0106 - val_custom_metric: 1.4568 - lr: 0.0041\n",
      "Epoch 88/300\n",
      "54/54 [==============================] - 6s 116ms/step - loss: 0.0065 - custom_metric: 0.9467 - val_loss: 0.0109 - val_custom_metric: 1.4777 - lr: 0.0040\n",
      "Epoch 89/300\n",
      "54/54 [==============================] - 6s 115ms/step - loss: 0.0065 - custom_metric: 0.9420 - val_loss: 0.0108 - val_custom_metric: 1.5436 - lr: 0.0040\n",
      "Epoch 90/300\n",
      "54/54 [==============================] - 6s 114ms/step - loss: 0.0065 - custom_metric: 0.9342 - val_loss: 0.0095 - val_custom_metric: 1.2592 - lr: 0.0040\n",
      "Epoch 91/300\n",
      "54/54 [==============================] - 6s 118ms/step - loss: 0.0065 - custom_metric: 0.9383 - val_loss: 0.0104 - val_custom_metric: 1.4180 - lr: 0.0040\n",
      "Epoch 92/300\n",
      "54/54 [==============================] - 6s 115ms/step - loss: 0.0065 - custom_metric: 0.9384 - val_loss: 0.0107 - val_custom_metric: 1.4888 - lr: 0.0039\n",
      "Epoch 93/300\n",
      "54/54 [==============================] - 6s 114ms/step - loss: 0.0065 - custom_metric: 0.9269 - val_loss: 0.0104 - val_custom_metric: 1.4095 - lr: 0.0039\n",
      "Epoch 94/300\n",
      "54/54 [==============================] - 6s 114ms/step - loss: 0.0065 - custom_metric: 0.9315 - val_loss: 0.0092 - val_custom_metric: 1.2404 - lr: 0.0039\n",
      "Epoch 95/300\n",
      "54/54 [==============================] - 6s 114ms/step - loss: 0.0064 - custom_metric: 0.9207 - val_loss: 0.0094 - val_custom_metric: 1.3151 - lr: 0.0039\n",
      "Epoch 96/300\n",
      "54/54 [==============================] - 6s 114ms/step - loss: 0.0065 - custom_metric: 0.9237 - val_loss: 0.0096 - val_custom_metric: 1.3755 - lr: 0.0039\n",
      "Epoch 97/300\n",
      "54/54 [==============================] - 6s 116ms/step - loss: 0.0064 - custom_metric: 0.9173 - val_loss: 0.0100 - val_custom_metric: 1.3787 - lr: 0.0038\n",
      "Epoch 98/300\n",
      "54/54 [==============================] - 6s 115ms/step - loss: 0.0064 - custom_metric: 0.9150 - val_loss: 0.0093 - val_custom_metric: 1.3715 - lr: 0.0038\n",
      "Epoch 99/300\n"
     ]
    },
    {
     "name": "stdout",
     "output_type": "stream",
     "text": [
      "54/54 [==============================] - 6s 115ms/step - loss: 0.0064 - custom_metric: 0.9111 - val_loss: 0.0108 - val_custom_metric: 1.4580 - lr: 0.0038\n",
      "Epoch 100/300\n",
      "54/54 [==============================] - 6s 118ms/step - loss: 0.0063 - custom_metric: 0.9080 - val_loss: 0.0105 - val_custom_metric: 1.4408 - lr: 0.0038\n",
      "Epoch 101/300\n",
      "54/54 [==============================] - 6s 116ms/step - loss: 0.0064 - custom_metric: 0.9119 - val_loss: 0.0105 - val_custom_metric: 1.4136 - lr: 0.0038\n",
      "Epoch 102/300\n",
      "54/54 [==============================] - 6s 115ms/step - loss: 0.0065 - custom_metric: 0.9300 - val_loss: 0.0106 - val_custom_metric: 1.3930 - lr: 0.0037\n",
      "Epoch 103/300\n",
      "54/54 [==============================] - 6s 115ms/step - loss: 0.0064 - custom_metric: 0.9073 - val_loss: 0.0106 - val_custom_metric: 1.4745 - lr: 0.0037\n",
      "Epoch 104/300\n",
      "54/54 [==============================] - 6s 114ms/step - loss: 0.0064 - custom_metric: 0.9109 - val_loss: 0.0109 - val_custom_metric: 1.4632 - lr: 0.0037\n",
      "Epoch 105/300\n",
      "54/54 [==============================] - 6s 115ms/step - loss: 0.0064 - custom_metric: 0.9162 - val_loss: 0.0106 - val_custom_metric: 1.4349 - lr: 0.0037\n",
      "Epoch 106/300\n",
      "54/54 [==============================] - 6s 113ms/step - loss: 0.0063 - custom_metric: 0.8950 - val_loss: 0.0112 - val_custom_metric: 1.5463 - lr: 0.0036\n",
      "Epoch 107/300\n",
      "54/54 [==============================] - 6s 115ms/step - loss: 0.0063 - custom_metric: 0.9023 - val_loss: 0.0100 - val_custom_metric: 1.3210 - lr: 0.0036\n",
      "Epoch 108/300\n",
      "54/54 [==============================] - 6s 113ms/step - loss: 0.0063 - custom_metric: 0.8993 - val_loss: 0.0105 - val_custom_metric: 1.3730 - lr: 0.0036\n",
      "Epoch 109/300\n",
      "54/54 [==============================] - 6s 115ms/step - loss: 0.0064 - custom_metric: 0.9091 - val_loss: 0.0100 - val_custom_metric: 1.3510 - lr: 0.0036\n",
      "Epoch 110/300\n",
      "54/54 [==============================] - 6s 115ms/step - loss: 0.0063 - custom_metric: 0.9052 - val_loss: 0.0107 - val_custom_metric: 1.4193 - lr: 0.0035\n",
      "Epoch 111/300\n",
      "54/54 [==============================] - 6s 116ms/step - loss: 0.0065 - custom_metric: 0.9400 - val_loss: 0.0108 - val_custom_metric: 1.4969 - lr: 0.0035\n",
      "Epoch 112/300\n",
      "54/54 [==============================] - 6s 114ms/step - loss: 0.0064 - custom_metric: 0.9208 - val_loss: 0.0115 - val_custom_metric: 1.5503 - lr: 0.0035\n",
      "Epoch 113/300\n",
      "54/54 [==============================] - 6s 114ms/step - loss: 0.0063 - custom_metric: 0.9051 - val_loss: 0.0112 - val_custom_metric: 1.5012 - lr: 0.0035\n",
      "Epoch 114/300\n",
      "54/54 [==============================] - 6s 114ms/step - loss: 0.0063 - custom_metric: 0.9064 - val_loss: 0.0102 - val_custom_metric: 1.3333 - lr: 0.0034\n",
      "Epoch 115/300\n",
      "54/54 [==============================] - 6s 114ms/step - loss: 0.0061 - custom_metric: 0.8769 - val_loss: 0.0114 - val_custom_metric: 1.5211 - lr: 0.0034\n",
      "Epoch 116/300\n",
      "54/54 [==============================] - 6s 114ms/step - loss: 0.0062 - custom_metric: 0.8931 - val_loss: 0.0101 - val_custom_metric: 1.3336 - lr: 0.0034\n",
      "Epoch 117/300\n",
      "54/54 [==============================] - 6s 114ms/step - loss: 0.0062 - custom_metric: 0.8835 - val_loss: 0.0105 - val_custom_metric: 1.3510 - lr: 0.0034\n",
      "Epoch 118/300\n",
      "54/54 [==============================] - 6s 117ms/step - loss: 0.0063 - custom_metric: 0.9081 - val_loss: 0.0102 - val_custom_metric: 1.3493 - lr: 0.0033\n",
      "Epoch 119/300\n",
      "54/54 [==============================] - 6s 113ms/step - loss: 0.0063 - custom_metric: 0.9018 - val_loss: 0.0102 - val_custom_metric: 1.3934 - lr: 0.0033\n",
      "Epoch 120/300\n",
      "54/54 [==============================] - 6s 114ms/step - loss: 0.0062 - custom_metric: 0.8894 - val_loss: 0.0090 - val_custom_metric: 1.2024 - lr: 0.0033\n",
      "Epoch 121/300\n",
      "54/54 [==============================] - 6s 114ms/step - loss: 0.0063 - custom_metric: 0.9003 - val_loss: 0.0091 - val_custom_metric: 1.1466 - lr: 0.0033\n",
      "Epoch 122/300\n",
      "54/54 [==============================] - 6s 118ms/step - loss: 0.0063 - custom_metric: 0.8983 - val_loss: 0.0095 - val_custom_metric: 1.2876 - lr: 0.0032\n",
      "Epoch 123/300\n",
      "54/54 [==============================] - 6s 115ms/step - loss: 0.0065 - custom_metric: 0.9262 - val_loss: 0.0120 - val_custom_metric: 1.6334 - lr: 0.0032\n",
      "Epoch 124/300\n",
      "54/54 [==============================] - 6s 116ms/step - loss: 0.0063 - custom_metric: 0.8973 - val_loss: 0.0107 - val_custom_metric: 1.4875 - lr: 0.0032\n",
      "Epoch 125/300\n",
      "54/54 [==============================] - 6s 115ms/step - loss: 0.0063 - custom_metric: 0.9066 - val_loss: 0.0077 - val_custom_metric: 1.0176 - lr: 0.0032\n",
      "Epoch 126/300\n",
      "54/54 [==============================] - 6s 116ms/step - loss: 0.0064 - custom_metric: 0.9317 - val_loss: 0.0107 - val_custom_metric: 1.4877 - lr: 0.0031\n",
      "Epoch 127/300\n",
      "54/54 [==============================] - 6s 116ms/step - loss: 0.0067 - custom_metric: 0.9595 - val_loss: 0.0096 - val_custom_metric: 1.2742 - lr: 0.0031\n",
      "Epoch 128/300\n",
      "54/54 [==============================] - 6s 115ms/step - loss: 0.0067 - custom_metric: 0.9558 - val_loss: 0.0089 - val_custom_metric: 1.1213 - lr: 0.0031\n",
      "Epoch 129/300\n",
      "54/54 [==============================] - 6s 116ms/step - loss: 0.0067 - custom_metric: 0.9554 - val_loss: 0.0093 - val_custom_metric: 1.2016 - lr: 0.0031\n",
      "Epoch 130/300\n",
      "54/54 [==============================] - 6s 115ms/step - loss: 0.0066 - custom_metric: 0.9490 - val_loss: 0.0101 - val_custom_metric: 1.3774 - lr: 0.0030\n",
      "Epoch 131/300\n",
      "54/54 [==============================] - 6s 116ms/step - loss: 0.0065 - custom_metric: 0.9301 - val_loss: 0.0094 - val_custom_metric: 1.2420 - lr: 0.0030\n",
      "Epoch 132/300\n",
      "54/54 [==============================] - 6s 117ms/step - loss: 0.0064 - custom_metric: 0.9170 - val_loss: 0.0091 - val_custom_metric: 1.1241 - lr: 0.0030\n",
      "Epoch 133/300\n",
      "54/54 [==============================] - 6s 116ms/step - loss: 0.0064 - custom_metric: 0.9218 - val_loss: 0.0094 - val_custom_metric: 1.2555 - lr: 0.0030\n",
      "Epoch 134/300\n",
      "54/54 [==============================] - 6s 116ms/step - loss: 0.0064 - custom_metric: 0.9235 - val_loss: 0.0104 - val_custom_metric: 1.3710 - lr: 0.0029\n",
      "Epoch 135/300\n",
      "54/54 [==============================] - 6s 119ms/step - loss: 0.0064 - custom_metric: 0.9199 - val_loss: 0.0083 - val_custom_metric: 1.1191 - lr: 0.0029\n",
      "Epoch 136/300\n",
      "54/54 [==============================] - 6s 115ms/step - loss: 0.0064 - custom_metric: 0.9118 - val_loss: 0.0095 - val_custom_metric: 1.3042 - lr: 0.0029\n",
      "Epoch 137/300\n",
      "54/54 [==============================] - 6s 114ms/step - loss: 0.0063 - custom_metric: 0.9101 - val_loss: 0.0102 - val_custom_metric: 1.3679 - lr: 0.0029\n",
      "Epoch 138/300\n",
      "54/54 [==============================] - 6s 113ms/step - loss: 0.0064 - custom_metric: 0.9154 - val_loss: 0.0096 - val_custom_metric: 1.3649 - lr: 0.0028\n",
      "Epoch 139/300\n",
      "54/54 [==============================] - 6s 115ms/step - loss: 0.0063 - custom_metric: 0.8982 - val_loss: 0.0099 - val_custom_metric: 1.3510 - lr: 0.0028\n",
      "Epoch 140/300\n",
      "54/54 [==============================] - 6s 113ms/step - loss: 0.0062 - custom_metric: 0.8943 - val_loss: 0.0097 - val_custom_metric: 1.3209 - lr: 0.0028\n",
      "Epoch 141/300\n",
      "54/54 [==============================] - 6s 113ms/step - loss: 0.0063 - custom_metric: 0.9000 - val_loss: 0.0089 - val_custom_metric: 1.1123 - lr: 0.0028\n",
      "Epoch 142/300\n",
      "54/54 [==============================] - 6s 113ms/step - loss: 0.0062 - custom_metric: 0.8928 - val_loss: 0.0088 - val_custom_metric: 1.1222 - lr: 0.0027\n",
      "Epoch 143/300\n",
      "54/54 [==============================] - 6s 113ms/step - loss: 0.0062 - custom_metric: 0.8888 - val_loss: 0.0091 - val_custom_metric: 1.1939 - lr: 0.0027\n",
      "Epoch 144/300\n",
      "54/54 [==============================] - 6s 115ms/step - loss: 0.0062 - custom_metric: 0.8940 - val_loss: 0.0093 - val_custom_metric: 1.2108 - lr: 0.0027\n",
      "Epoch 145/300\n",
      "54/54 [==============================] - 6s 116ms/step - loss: 0.0062 - custom_metric: 0.8893 - val_loss: 0.0088 - val_custom_metric: 1.1508 - lr: 0.0027\n",
      "Epoch 146/300\n",
      "54/54 [==============================] - 6s 114ms/step - loss: 0.0061 - custom_metric: 0.8722 - val_loss: 0.0108 - val_custom_metric: 1.3881 - lr: 0.0026\n",
      "Epoch 147/300\n",
      "54/54 [==============================] - 6s 114ms/step - loss: 0.0061 - custom_metric: 0.8855 - val_loss: 0.0094 - val_custom_metric: 1.2554 - lr: 0.0026\n"
     ]
    },
    {
     "name": "stdout",
     "output_type": "stream",
     "text": [
      "Epoch 148/300\n",
      "54/54 [==============================] - 6s 114ms/step - loss: 0.0061 - custom_metric: 0.8850 - val_loss: 0.0098 - val_custom_metric: 1.2230 - lr: 0.0026\n",
      "Epoch 149/300\n",
      "54/54 [==============================] - 6s 114ms/step - loss: 0.0061 - custom_metric: 0.8777 - val_loss: 0.0100 - val_custom_metric: 1.2972 - lr: 0.0026\n",
      "Epoch 150/300\n",
      "54/54 [==============================] - 6s 113ms/step - loss: 0.0062 - custom_metric: 0.8875 - val_loss: 0.0101 - val_custom_metric: 1.3645 - lr: 0.0025\n",
      "Epoch 151/300\n",
      "54/54 [==============================] - 6s 114ms/step - loss: 0.0062 - custom_metric: 0.8914 - val_loss: 0.0097 - val_custom_metric: 1.2683 - lr: 0.0025\n",
      "Epoch 152/300\n",
      "54/54 [==============================] - 6s 113ms/step - loss: 0.0062 - custom_metric: 0.8973 - val_loss: 0.0102 - val_custom_metric: 1.3802 - lr: 0.0025\n",
      "Epoch 153/300\n",
      "54/54 [==============================] - 6s 114ms/step - loss: 0.0061 - custom_metric: 0.8802 - val_loss: 0.0103 - val_custom_metric: 1.3633 - lr: 0.0024\n",
      "Epoch 154/300\n",
      "54/54 [==============================] - 6s 113ms/step - loss: 0.0062 - custom_metric: 0.8909 - val_loss: 0.0112 - val_custom_metric: 1.5008 - lr: 0.0024\n",
      "Epoch 155/300\n",
      "54/54 [==============================] - 6s 113ms/step - loss: 0.0061 - custom_metric: 0.8809 - val_loss: 0.0107 - val_custom_metric: 1.4729 - lr: 0.0024\n",
      "Epoch 156/300\n",
      "54/54 [==============================] - 6s 116ms/step - loss: 0.0061 - custom_metric: 0.8847 - val_loss: 0.0101 - val_custom_metric: 1.3865 - lr: 0.0024\n",
      "Epoch 157/300\n",
      "54/54 [==============================] - 6s 113ms/step - loss: 0.0061 - custom_metric: 0.8840 - val_loss: 0.0096 - val_custom_metric: 1.3243 - lr: 0.0023\n",
      "Epoch 158/300\n",
      "54/54 [==============================] - 6s 114ms/step - loss: 0.0060 - custom_metric: 0.8631 - val_loss: 0.0090 - val_custom_metric: 1.2766 - lr: 0.0023\n",
      "Epoch 159/300\n",
      "54/54 [==============================] - 6s 114ms/step - loss: 0.0061 - custom_metric: 0.8805 - val_loss: 0.0099 - val_custom_metric: 1.2911 - lr: 0.0023\n",
      "Epoch 160/300\n",
      "54/54 [==============================] - 6s 114ms/step - loss: 0.0060 - custom_metric: 0.8672 - val_loss: 0.0083 - val_custom_metric: 1.1481 - lr: 0.0023\n",
      "Epoch 161/300\n",
      "54/54 [==============================] - 6s 114ms/step - loss: 0.0060 - custom_metric: 0.8610 - val_loss: 0.0097 - val_custom_metric: 1.2619 - lr: 0.0022\n",
      "Epoch 162/300\n",
      "54/54 [==============================] - 6s 113ms/step - loss: 0.0060 - custom_metric: 0.8689 - val_loss: 0.0089 - val_custom_metric: 1.2342 - lr: 0.0022\n",
      "Epoch 163/300\n",
      "54/54 [==============================] - 6s 114ms/step - loss: 0.0059 - custom_metric: 0.8551 - val_loss: 0.0095 - val_custom_metric: 1.2157 - lr: 0.0022\n",
      "Epoch 164/300\n",
      "54/54 [==============================] - 6s 114ms/step - loss: 0.0060 - custom_metric: 0.8660 - val_loss: 0.0094 - val_custom_metric: 1.2468 - lr: 0.0022\n",
      "Epoch 165/300\n",
      "54/54 [==============================] - 6s 114ms/step - loss: 0.0060 - custom_metric: 0.8678 - val_loss: 0.0094 - val_custom_metric: 1.2822 - lr: 0.0021\n",
      "Epoch 166/300\n",
      "54/54 [==============================] - 6s 113ms/step - loss: 0.0061 - custom_metric: 0.8759 - val_loss: 0.0088 - val_custom_metric: 1.1932 - lr: 0.0021\n",
      "Epoch 167/300\n",
      "54/54 [==============================] - 6s 114ms/step - loss: 0.0061 - custom_metric: 0.8867 - val_loss: 0.0092 - val_custom_metric: 1.2382 - lr: 0.0021\n",
      "Epoch 168/300\n",
      "54/54 [==============================] - 6s 114ms/step - loss: 0.0059 - custom_metric: 0.8654 - val_loss: 0.0092 - val_custom_metric: 1.2870 - lr: 0.0021\n",
      "Epoch 169/300\n",
      "54/54 [==============================] - 6s 112ms/step - loss: 0.0058 - custom_metric: 0.8453 - val_loss: 0.0095 - val_custom_metric: 1.2668 - lr: 0.0020\n",
      "Epoch 170/300\n",
      "54/54 [==============================] - 6s 114ms/step - loss: 0.0059 - custom_metric: 0.8604 - val_loss: 0.0104 - val_custom_metric: 1.3421 - lr: 0.0020\n",
      "Epoch 171/300\n",
      "54/54 [==============================] - 6s 114ms/step - loss: 0.0060 - custom_metric: 0.8669 - val_loss: 0.0095 - val_custom_metric: 1.2244 - lr: 0.0020\n",
      "Epoch 172/300\n",
      "54/54 [==============================] - 6s 114ms/step - loss: 0.0059 - custom_metric: 0.8546 - val_loss: 0.0090 - val_custom_metric: 1.1993 - lr: 0.0020\n",
      "Epoch 173/300\n",
      "54/54 [==============================] - 6s 114ms/step - loss: 0.0059 - custom_metric: 0.8477 - val_loss: 0.0086 - val_custom_metric: 1.1729 - lr: 0.0019\n",
      "Epoch 174/300\n",
      "54/54 [==============================] - 6s 118ms/step - loss: 0.0058 - custom_metric: 0.8420 - val_loss: 0.0076 - val_custom_metric: 0.9471 - lr: 0.0019\n",
      "Epoch 175/300\n",
      "54/54 [==============================] - 6s 118ms/step - loss: 0.0059 - custom_metric: 0.8533 - val_loss: 0.0090 - val_custom_metric: 1.1662 - lr: 0.0019\n",
      "Epoch 176/300\n",
      "54/54 [==============================] - 6s 115ms/step - loss: 0.0059 - custom_metric: 0.8513 - val_loss: 0.0077 - val_custom_metric: 0.9521 - lr: 0.0019\n",
      "Epoch 177/300\n",
      "54/54 [==============================] - 6s 114ms/step - loss: 0.0058 - custom_metric: 0.8487 - val_loss: 0.0081 - val_custom_metric: 1.0645 - lr: 0.0018\n",
      "Epoch 178/300\n",
      "54/54 [==============================] - 6s 116ms/step - loss: 0.0058 - custom_metric: 0.8365 - val_loss: 0.0079 - val_custom_metric: 1.0489 - lr: 0.0018\n",
      "Epoch 179/300\n",
      "54/54 [==============================] - 6s 114ms/step - loss: 0.0058 - custom_metric: 0.8377 - val_loss: 0.0079 - val_custom_metric: 1.0691 - lr: 0.0018\n",
      "Epoch 180/300\n",
      "54/54 [==============================] - 6s 114ms/step - loss: 0.0057 - custom_metric: 0.8320 - val_loss: 0.0076 - val_custom_metric: 0.9333 - lr: 0.0018\n",
      "Epoch 181/300\n",
      "54/54 [==============================] - 6s 116ms/step - loss: 0.0057 - custom_metric: 0.8345 - val_loss: 0.0080 - val_custom_metric: 1.0030 - lr: 0.0017\n",
      "Epoch 182/300\n",
      "54/54 [==============================] - 6s 114ms/step - loss: 0.0057 - custom_metric: 0.8262 - val_loss: 0.0075 - val_custom_metric: 0.9451 - lr: 0.0017\n",
      "Epoch 183/300\n",
      "54/54 [==============================] - 6s 114ms/step - loss: 0.0057 - custom_metric: 0.8298 - val_loss: 0.0086 - val_custom_metric: 1.1032 - lr: 0.0017\n",
      "Epoch 184/300\n",
      "54/54 [==============================] - 6s 114ms/step - loss: 0.0058 - custom_metric: 0.8342 - val_loss: 0.0084 - val_custom_metric: 1.0957 - lr: 0.0017\n",
      "Epoch 185/300\n",
      "54/54 [==============================] - 6s 113ms/step - loss: 0.0057 - custom_metric: 0.8308 - val_loss: 0.0079 - val_custom_metric: 1.0050 - lr: 0.0016\n",
      "Epoch 186/300\n",
      "54/54 [==============================] - 6s 116ms/step - loss: 0.0056 - custom_metric: 0.8283 - val_loss: 0.0078 - val_custom_metric: 1.1329 - lr: 0.0016\n",
      "Epoch 187/300\n",
      "54/54 [==============================] - 6s 116ms/step - loss: 0.0056 - custom_metric: 0.8180 - val_loss: 0.0084 - val_custom_metric: 1.1139 - lr: 0.0016\n",
      "Epoch 188/300\n",
      "54/54 [==============================] - 6s 119ms/step - loss: 0.0056 - custom_metric: 0.8206 - val_loss: 0.0082 - val_custom_metric: 1.0816 - lr: 0.0016\n",
      "Epoch 189/300\n",
      "54/54 [==============================] - 6s 115ms/step - loss: 0.0056 - custom_metric: 0.8203 - val_loss: 0.0074 - val_custom_metric: 0.9719 - lr: 0.0015\n",
      "Epoch 190/300\n",
      "54/54 [==============================] - 6s 117ms/step - loss: 0.0057 - custom_metric: 0.8282 - val_loss: 0.0083 - val_custom_metric: 1.1336 - lr: 0.0015\n",
      "Epoch 191/300\n",
      "54/54 [==============================] - 6s 112ms/step - loss: 0.0056 - custom_metric: 0.8205 - val_loss: 0.0082 - val_custom_metric: 1.0427 - lr: 0.0015\n",
      "Epoch 192/300\n",
      "54/54 [==============================] - 6s 120ms/step - loss: 0.0056 - custom_metric: 0.8155 - val_loss: 0.0074 - val_custom_metric: 0.8778 - lr: 0.0015\n",
      "Epoch 193/300\n",
      "54/54 [==============================] - 6s 116ms/step - loss: 0.0056 - custom_metric: 0.8192 - val_loss: 0.0074 - val_custom_metric: 0.9194 - lr: 0.0014\n",
      "Epoch 194/300\n",
      "54/54 [==============================] - 6s 116ms/step - loss: 0.0056 - custom_metric: 0.8050 - val_loss: 0.0073 - val_custom_metric: 0.8622 - lr: 0.0014\n",
      "Epoch 195/300\n",
      "54/54 [==============================] - 7s 121ms/step - loss: 0.0056 - custom_metric: 0.8140 - val_loss: 0.0080 - val_custom_metric: 1.0107 - lr: 0.0014\n",
      "Epoch 196/300\n",
      "54/54 [==============================] - 6s 114ms/step - loss: 0.0056 - custom_metric: 0.8200 - val_loss: 0.0085 - val_custom_metric: 1.1509 - lr: 0.0014\n"
     ]
    },
    {
     "name": "stdout",
     "output_type": "stream",
     "text": [
      "Epoch 197/300\n",
      "54/54 [==============================] - 6s 118ms/step - loss: 0.0054 - custom_metric: 0.7979 - val_loss: 0.0087 - val_custom_metric: 1.1431 - lr: 0.0013\n",
      "Epoch 198/300\n",
      "54/54 [==============================] - 6s 117ms/step - loss: 0.0055 - custom_metric: 0.8111 - val_loss: 0.0074 - val_custom_metric: 0.9205 - lr: 0.0013\n",
      "Epoch 199/300\n",
      "54/54 [==============================] - 6s 116ms/step - loss: 0.0055 - custom_metric: 0.8106 - val_loss: 0.0078 - val_custom_metric: 0.9303 - lr: 0.0013\n",
      "Epoch 200/300\n",
      "54/54 [==============================] - 6s 116ms/step - loss: 0.0054 - custom_metric: 0.7931 - val_loss: 0.0085 - val_custom_metric: 1.1663 - lr: 0.0013\n",
      "Epoch 201/300\n",
      "54/54 [==============================] - 6s 120ms/step - loss: 0.0055 - custom_metric: 0.8064 - val_loss: 0.0085 - val_custom_metric: 1.1330 - lr: 0.0013\n",
      "Epoch 202/300\n",
      "54/54 [==============================] - 6s 116ms/step - loss: 0.0055 - custom_metric: 0.8022 - val_loss: 0.0087 - val_custom_metric: 1.1571 - lr: 0.0012\n",
      "Epoch 203/300\n",
      "54/54 [==============================] - 6s 113ms/step - loss: 0.0054 - custom_metric: 0.7966 - val_loss: 0.0088 - val_custom_metric: 1.2088 - lr: 0.0012\n",
      "Epoch 204/300\n",
      "54/54 [==============================] - 6s 116ms/step - loss: 0.0054 - custom_metric: 0.7967 - val_loss: 0.0075 - val_custom_metric: 0.9437 - lr: 0.0012\n",
      "Epoch 205/300\n",
      "54/54 [==============================] - 6s 116ms/step - loss: 0.0054 - custom_metric: 0.7951 - val_loss: 0.0076 - val_custom_metric: 1.0071 - lr: 0.0012\n",
      "Epoch 206/300\n",
      "54/54 [==============================] - 6s 116ms/step - loss: 0.0054 - custom_metric: 0.7946 - val_loss: 0.0079 - val_custom_metric: 0.9656 - lr: 0.0011\n",
      "Epoch 207/300\n",
      "54/54 [==============================] - 6s 116ms/step - loss: 0.0053 - custom_metric: 0.7827 - val_loss: 0.0081 - val_custom_metric: 1.0159 - lr: 0.0011\n",
      "Epoch 208/300\n",
      "54/54 [==============================] - 6s 116ms/step - loss: 0.0054 - custom_metric: 0.7957 - val_loss: 0.0080 - val_custom_metric: 1.0022 - lr: 0.0011\n",
      "Epoch 209/300\n",
      "54/54 [==============================] - 6s 115ms/step - loss: 0.0054 - custom_metric: 0.7833 - val_loss: 0.0077 - val_custom_metric: 0.9696 - lr: 0.0011\n",
      "Epoch 210/300\n",
      "54/54 [==============================] - 6s 116ms/step - loss: 0.0053 - custom_metric: 0.7833 - val_loss: 0.0075 - val_custom_metric: 0.9069 - lr: 0.0011\n",
      "Epoch 211/300\n",
      "54/54 [==============================] - 6s 115ms/step - loss: 0.0053 - custom_metric: 0.7713 - val_loss: 0.0073 - val_custom_metric: 0.8844 - lr: 0.0010\n",
      "Epoch 212/300\n",
      "54/54 [==============================] - 6s 113ms/step - loss: 0.0053 - custom_metric: 0.7696 - val_loss: 0.0072 - val_custom_metric: 0.8558 - lr: 0.0010\n",
      "Epoch 213/300\n",
      "54/54 [==============================] - 6s 115ms/step - loss: 0.0052 - custom_metric: 0.7630 - val_loss: 0.0080 - val_custom_metric: 1.0726 - lr: 9.8890e-04\n",
      "Epoch 214/300\n",
      "54/54 [==============================] - 6s 115ms/step - loss: 0.0053 - custom_metric: 0.7785 - val_loss: 0.0078 - val_custom_metric: 0.9773 - lr: 9.6814e-04\n",
      "Epoch 215/300\n",
      "54/54 [==============================] - 6s 116ms/step - loss: 0.0052 - custom_metric: 0.7660 - val_loss: 0.0075 - val_custom_metric: 0.9053 - lr: 9.4754e-04\n",
      "Epoch 216/300\n",
      "54/54 [==============================] - 6s 114ms/step - loss: 0.0052 - custom_metric: 0.7638 - val_loss: 0.0074 - val_custom_metric: 0.8746 - lr: 9.2711e-04\n",
      "Epoch 217/300\n",
      "54/54 [==============================] - 6s 116ms/step - loss: 0.0052 - custom_metric: 0.7716 - val_loss: 0.0073 - val_custom_metric: 0.8812 - lr: 9.0685e-04\n",
      "Epoch 218/300\n",
      "54/54 [==============================] - 6s 114ms/step - loss: 0.0051 - custom_metric: 0.7550 - val_loss: 0.0074 - val_custom_metric: 0.9369 - lr: 8.8677e-04\n",
      "Epoch 219/300\n",
      "54/54 [==============================] - 6s 113ms/step - loss: 0.0052 - custom_metric: 0.7602 - val_loss: 0.0077 - val_custom_metric: 1.0234 - lr: 8.6686e-04\n",
      "Epoch 220/300\n",
      "54/54 [==============================] - 6s 113ms/step - loss: 0.0052 - custom_metric: 0.7620 - val_loss: 0.0078 - val_custom_metric: 0.9933 - lr: 8.4714e-04\n",
      "Epoch 221/300\n",
      "54/54 [==============================] - 6s 115ms/step - loss: 0.0051 - custom_metric: 0.7506 - val_loss: 0.0076 - val_custom_metric: 0.9407 - lr: 8.2759e-04\n",
      "Epoch 222/300\n",
      "54/54 [==============================] - 6s 114ms/step - loss: 0.0051 - custom_metric: 0.7560 - val_loss: 0.0076 - val_custom_metric: 0.9344 - lr: 8.0823e-04\n",
      "Epoch 223/300\n",
      "54/54 [==============================] - 6s 115ms/step - loss: 0.0050 - custom_metric: 0.7423 - val_loss: 0.0078 - val_custom_metric: 0.9546 - lr: 7.8905e-04\n",
      "Epoch 224/300\n",
      "54/54 [==============================] - 6s 115ms/step - loss: 0.0051 - custom_metric: 0.7521 - val_loss: 0.0079 - val_custom_metric: 1.0512 - lr: 7.7006e-04\n",
      "Epoch 225/300\n",
      "54/54 [==============================] - 6s 113ms/step - loss: 0.0052 - custom_metric: 0.7593 - val_loss: 0.0076 - val_custom_metric: 0.9646 - lr: 7.5127e-04\n",
      "Epoch 226/300\n",
      "54/54 [==============================] - 6s 114ms/step - loss: 0.0052 - custom_metric: 0.7640 - val_loss: 0.0074 - val_custom_metric: 0.8780 - lr: 7.3266e-04\n",
      "Epoch 227/300\n",
      "54/54 [==============================] - 6s 116ms/step - loss: 0.0052 - custom_metric: 0.7628 - val_loss: 0.0074 - val_custom_metric: 0.9031 - lr: 7.1425e-04\n",
      "Epoch 228/300\n",
      "54/54 [==============================] - 6s 113ms/step - loss: 0.0050 - custom_metric: 0.7418 - val_loss: 0.0076 - val_custom_metric: 0.9045 - lr: 6.9603e-04\n",
      "Epoch 229/300\n",
      "54/54 [==============================] - 6s 113ms/step - loss: 0.0051 - custom_metric: 0.7442 - val_loss: 0.0074 - val_custom_metric: 0.9198 - lr: 6.7801e-04\n",
      "Epoch 230/300\n",
      "54/54 [==============================] - 6s 113ms/step - loss: 0.0050 - custom_metric: 0.7375 - val_loss: 0.0074 - val_custom_metric: 0.9126 - lr: 6.6019e-04\n",
      "Epoch 231/300\n",
      "54/54 [==============================] - 6s 114ms/step - loss: 0.0050 - custom_metric: 0.7398 - val_loss: 0.0073 - val_custom_metric: 0.8751 - lr: 6.4257e-04\n",
      "Epoch 232/300\n",
      "54/54 [==============================] - 6s 114ms/step - loss: 0.0050 - custom_metric: 0.7369 - val_loss: 0.0074 - val_custom_metric: 0.9082 - lr: 6.2516e-04\n",
      "Epoch 233/300\n",
      "54/54 [==============================] - 6s 114ms/step - loss: 0.0050 - custom_metric: 0.7381 - val_loss: 0.0073 - val_custom_metric: 0.9338 - lr: 6.0795e-04\n",
      "Epoch 234/300\n",
      "54/54 [==============================] - 6s 114ms/step - loss: 0.0050 - custom_metric: 0.7349 - val_loss: 0.0074 - val_custom_metric: 1.0060 - lr: 5.9095e-04\n",
      "Epoch 235/300\n",
      "54/54 [==============================] - 6s 114ms/step - loss: 0.0049 - custom_metric: 0.7316 - val_loss: 0.0078 - val_custom_metric: 0.9909 - lr: 5.7416e-04\n",
      "Epoch 236/300\n",
      "54/54 [==============================] - 6s 115ms/step - loss: 0.0050 - custom_metric: 0.7309 - val_loss: 0.0077 - val_custom_metric: 0.9873 - lr: 5.5758e-04\n",
      "Epoch 237/300\n",
      "54/54 [==============================] - 6s 114ms/step - loss: 0.0050 - custom_metric: 0.7407 - val_loss: 0.0073 - val_custom_metric: 0.9202 - lr: 5.4121e-04\n",
      "Epoch 238/300\n",
      "54/54 [==============================] - 6s 115ms/step - loss: 0.0050 - custom_metric: 0.7334 - val_loss: 0.0072 - val_custom_metric: 0.9022 - lr: 5.2506e-04\n",
      "Epoch 239/300\n",
      "54/54 [==============================] - 6s 113ms/step - loss: 0.0049 - custom_metric: 0.7374 - val_loss: 0.0073 - val_custom_metric: 0.9463 - lr: 5.0912e-04\n",
      "Epoch 240/300\n",
      "54/54 [==============================] - 6s 116ms/step - loss: 0.0050 - custom_metric: 0.7362 - val_loss: 0.0077 - val_custom_metric: 1.0234 - lr: 4.9341e-04\n",
      "Epoch 241/300\n",
      "54/54 [==============================] - 6s 113ms/step - loss: 0.0049 - custom_metric: 0.7319 - val_loss: 0.0073 - val_custom_metric: 0.9558 - lr: 4.7791e-04\n",
      "Epoch 242/300\n",
      "54/54 [==============================] - 6s 113ms/step - loss: 0.0048 - custom_metric: 0.7207 - val_loss: 0.0078 - val_custom_metric: 1.0495 - lr: 4.6263e-04\n",
      "Epoch 243/300\n",
      "54/54 [==============================] - 6s 113ms/step - loss: 0.0048 - custom_metric: 0.7180 - val_loss: 0.0074 - val_custom_metric: 0.9400 - lr: 4.4758e-04\n",
      "Epoch 244/300\n",
      "54/54 [==============================] - 6s 115ms/step - loss: 0.0048 - custom_metric: 0.7190 - val_loss: 0.0077 - val_custom_metric: 1.0281 - lr: 4.3276e-04\n",
      "Epoch 245/300\n"
     ]
    },
    {
     "name": "stdout",
     "output_type": "stream",
     "text": [
      "54/54 [==============================] - 6s 114ms/step - loss: 0.0048 - custom_metric: 0.7159 - val_loss: 0.0079 - val_custom_metric: 1.0462 - lr: 4.1816e-04\n",
      "Epoch 246/300\n",
      "54/54 [==============================] - 6s 113ms/step - loss: 0.0048 - custom_metric: 0.7176 - val_loss: 0.0079 - val_custom_metric: 1.0452 - lr: 4.0378e-04\n",
      "Epoch 247/300\n",
      "54/54 [==============================] - 6s 113ms/step - loss: 0.0048 - custom_metric: 0.7208 - val_loss: 0.0079 - val_custom_metric: 1.0569 - lr: 3.8964e-04\n",
      "Epoch 248/300\n",
      "54/54 [==============================] - 6s 113ms/step - loss: 0.0048 - custom_metric: 0.7148 - val_loss: 0.0079 - val_custom_metric: 1.0553 - lr: 3.7573e-04\n",
      "Epoch 249/300\n",
      "54/54 [==============================] - 6s 113ms/step - loss: 0.0048 - custom_metric: 0.7137 - val_loss: 0.0076 - val_custom_metric: 1.0145 - lr: 3.6205e-04\n",
      "Epoch 250/300\n",
      "54/54 [==============================] - 6s 113ms/step - loss: 0.0047 - custom_metric: 0.7056 - val_loss: 0.0077 - val_custom_metric: 1.0490 - lr: 3.4861e-04\n",
      "Epoch 251/300\n",
      "54/54 [==============================] - 6s 116ms/step - loss: 0.0048 - custom_metric: 0.7095 - val_loss: 0.0074 - val_custom_metric: 0.9554 - lr: 3.3540e-04\n",
      "Epoch 252/300\n",
      "54/54 [==============================] - 6s 113ms/step - loss: 0.0048 - custom_metric: 0.7113 - val_loss: 0.0073 - val_custom_metric: 0.9432 - lr: 3.2243e-04\n",
      "Epoch 253/300\n",
      "54/54 [==============================] - 6s 115ms/step - loss: 0.0048 - custom_metric: 0.7116 - val_loss: 0.0072 - val_custom_metric: 0.9092 - lr: 3.0970e-04\n",
      "Epoch 254/300\n",
      "54/54 [==============================] - 6s 114ms/step - loss: 0.0048 - custom_metric: 0.7186 - val_loss: 0.0074 - val_custom_metric: 0.9593 - lr: 2.9721e-04\n",
      "Epoch 255/300\n",
      "54/54 [==============================] - 6s 116ms/step - loss: 0.0047 - custom_metric: 0.7017 - val_loss: 0.0075 - val_custom_metric: 0.9489 - lr: 2.8496e-04\n",
      "Epoch 256/300\n",
      "54/54 [==============================] - 6s 114ms/step - loss: 0.0048 - custom_metric: 0.7116 - val_loss: 0.0073 - val_custom_metric: 0.9280 - lr: 2.7296e-04\n",
      "Epoch 257/300\n",
      "54/54 [==============================] - 6s 114ms/step - loss: 0.0047 - custom_metric: 0.7076 - val_loss: 0.0075 - val_custom_metric: 0.9770 - lr: 2.6119e-04\n",
      "Epoch 258/300\n",
      "54/54 [==============================] - 6s 118ms/step - loss: 0.0047 - custom_metric: 0.7032 - val_loss: 0.0076 - val_custom_metric: 1.0383 - lr: 2.4968e-04\n",
      "Epoch 259/300\n",
      "54/54 [==============================] - 6s 113ms/step - loss: 0.0047 - custom_metric: 0.7012 - val_loss: 0.0077 - val_custom_metric: 1.0446 - lr: 2.3841e-04\n",
      "Epoch 260/300\n",
      "54/54 [==============================] - 6s 117ms/step - loss: 0.0048 - custom_metric: 0.7074 - val_loss: 0.0076 - val_custom_metric: 1.0381 - lr: 2.2739e-04\n",
      "Epoch 261/300\n",
      "54/54 [==============================] - 7s 124ms/step - loss: 0.0047 - custom_metric: 0.6997 - val_loss: 0.0075 - val_custom_metric: 1.0533 - lr: 2.1661e-04\n",
      "Epoch 262/300\n",
      "54/54 [==============================] - 6s 116ms/step - loss: 0.0047 - custom_metric: 0.6980 - val_loss: 0.0072 - val_custom_metric: 0.9307 - lr: 2.0609e-04\n",
      "Epoch 263/300\n",
      "54/54 [==============================] - 6s 119ms/step - loss: 0.0047 - custom_metric: 0.7053 - val_loss: 0.0073 - val_custom_metric: 0.9720 - lr: 1.9582e-04\n",
      "Epoch 264/300\n",
      "54/54 [==============================] - 6s 117ms/step - loss: 0.0046 - custom_metric: 0.6966 - val_loss: 0.0071 - val_custom_metric: 0.9294 - lr: 1.8580e-04\n",
      "Epoch 265/300\n",
      "54/54 [==============================] - 6s 116ms/step - loss: 0.0046 - custom_metric: 0.6951 - val_loss: 0.0071 - val_custom_metric: 0.8918 - lr: 1.7604e-04\n",
      "Epoch 266/300\n",
      "54/54 [==============================] - 6s 117ms/step - loss: 0.0047 - custom_metric: 0.6954 - val_loss: 0.0071 - val_custom_metric: 0.9073 - lr: 1.6653e-04\n",
      "Epoch 267/300\n",
      "54/54 [==============================] - 6s 115ms/step - loss: 0.0047 - custom_metric: 0.7005 - val_loss: 0.0071 - val_custom_metric: 0.9083 - lr: 1.5728e-04\n",
      "Epoch 268/300\n",
      "54/54 [==============================] - 6s 117ms/step - loss: 0.0047 - custom_metric: 0.6987 - val_loss: 0.0071 - val_custom_metric: 0.9109 - lr: 1.4828e-04\n",
      "Epoch 269/300\n",
      "54/54 [==============================] - 6s 118ms/step - loss: 0.0047 - custom_metric: 0.7030 - val_loss: 0.0071 - val_custom_metric: 0.9197 - lr: 1.3955e-04\n",
      "Epoch 270/300\n",
      "54/54 [==============================] - 6s 116ms/step - loss: 0.0047 - custom_metric: 0.6999 - val_loss: 0.0071 - val_custom_metric: 0.9160 - lr: 1.3107e-04\n",
      "Epoch 271/300\n",
      "54/54 [==============================] - 6s 115ms/step - loss: 0.0046 - custom_metric: 0.6953 - val_loss: 0.0072 - val_custom_metric: 0.9189 - lr: 1.2285e-04\n",
      "Epoch 272/300\n",
      "54/54 [==============================] - 6s 119ms/step - loss: 0.0046 - custom_metric: 0.6948 - val_loss: 0.0072 - val_custom_metric: 0.9001 - lr: 1.1489e-04\n",
      "Epoch 273/300\n",
      "54/54 [==============================] - 6s 116ms/step - loss: 0.0046 - custom_metric: 0.6932 - val_loss: 0.0072 - val_custom_metric: 0.9074 - lr: 1.0719e-04\n",
      "Epoch 274/300\n",
      "54/54 [==============================] - 6s 119ms/step - loss: 0.0047 - custom_metric: 0.7017 - val_loss: 0.0071 - val_custom_metric: 0.9144 - lr: 9.9756e-05\n",
      "Epoch 275/300\n",
      "54/54 [==============================] - 6s 117ms/step - loss: 0.0047 - custom_metric: 0.6945 - val_loss: 0.0071 - val_custom_metric: 0.9239 - lr: 9.2584e-05\n",
      "Epoch 276/300\n",
      "54/54 [==============================] - 6s 115ms/step - loss: 0.0046 - custom_metric: 0.6966 - val_loss: 0.0071 - val_custom_metric: 0.9232 - lr: 8.5677e-05\n",
      "Epoch 277/300\n",
      "54/54 [==============================] - 6s 113ms/step - loss: 0.0046 - custom_metric: 0.6844 - val_loss: 0.0071 - val_custom_metric: 0.9155 - lr: 7.9034e-05\n",
      "Epoch 278/300\n",
      "54/54 [==============================] - 6s 116ms/step - loss: 0.0046 - custom_metric: 0.6888 - val_loss: 0.0071 - val_custom_metric: 0.9257 - lr: 7.2657e-05\n",
      "Epoch 279/300\n",
      "54/54 [==============================] - 6s 114ms/step - loss: 0.0046 - custom_metric: 0.6842 - val_loss: 0.0071 - val_custom_metric: 0.9300 - lr: 6.6546e-05\n",
      "Epoch 280/300\n",
      "54/54 [==============================] - 6s 114ms/step - loss: 0.0046 - custom_metric: 0.6906 - val_loss: 0.0071 - val_custom_metric: 0.9313 - lr: 6.0702e-05\n",
      "Epoch 281/300\n",
      "54/54 [==============================] - 6s 114ms/step - loss: 0.0046 - custom_metric: 0.6906 - val_loss: 0.0071 - val_custom_metric: 0.9318 - lr: 5.5125e-05\n",
      "Epoch 282/300\n",
      "54/54 [==============================] - 6s 115ms/step - loss: 0.0046 - custom_metric: 0.6892 - val_loss: 0.0071 - val_custom_metric: 0.9232 - lr: 4.9817e-05\n",
      "Epoch 283/300\n",
      "54/54 [==============================] - 6s 113ms/step - loss: 0.0046 - custom_metric: 0.6895 - val_loss: 0.0071 - val_custom_metric: 0.9232 - lr: 4.4777e-05\n",
      "Epoch 284/300\n",
      "54/54 [==============================] - 6s 114ms/step - loss: 0.0046 - custom_metric: 0.6894 - val_loss: 0.0071 - val_custom_metric: 0.9316 - lr: 4.0007e-05\n",
      "Epoch 285/300\n",
      "54/54 [==============================] - 6s 117ms/step - loss: 0.0046 - custom_metric: 0.6914 - val_loss: 0.0071 - val_custom_metric: 0.9234 - lr: 3.5506e-05\n",
      "Epoch 286/300\n",
      "54/54 [==============================] - 6s 114ms/step - loss: 0.0046 - custom_metric: 0.6838 - val_loss: 0.0071 - val_custom_metric: 0.9222 - lr: 3.1276e-05\n",
      "Epoch 287/300\n",
      "54/54 [==============================] - 6s 112ms/step - loss: 0.0046 - custom_metric: 0.6925 - val_loss: 0.0071 - val_custom_metric: 0.9155 - lr: 2.7316e-05\n",
      "Epoch 288/300\n",
      "54/54 [==============================] - 6s 113ms/step - loss: 0.0045 - custom_metric: 0.6821 - val_loss: 0.0071 - val_custom_metric: 0.9160 - lr: 2.3628e-05\n",
      "Epoch 289/300\n",
      "54/54 [==============================] - 6s 115ms/step - loss: 0.0046 - custom_metric: 0.6887 - val_loss: 0.0071 - val_custom_metric: 0.9088 - lr: 2.0211e-05\n",
      "Epoch 290/300\n",
      "54/54 [==============================] - 6s 114ms/step - loss: 0.0046 - custom_metric: 0.6833 - val_loss: 0.0071 - val_custom_metric: 0.9108 - lr: 1.7066e-05\n",
      "Epoch 291/300\n",
      "54/54 [==============================] - 6s 116ms/step - loss: 0.0046 - custom_metric: 0.6835 - val_loss: 0.0071 - val_custom_metric: 0.9106 - lr: 1.4194e-05\n",
      "Epoch 292/300\n",
      "54/54 [==============================] - 6s 114ms/step - loss: 0.0046 - custom_metric: 0.6859 - val_loss: 0.0071 - val_custom_metric: 0.9170 - lr: 1.1594e-05\n"
     ]
    },
    {
     "name": "stdout",
     "output_type": "stream",
     "text": [
      "Epoch 293/300\n",
      "54/54 [==============================] - 6s 114ms/step - loss: 0.0046 - custom_metric: 0.6892 - val_loss: 0.0071 - val_custom_metric: 0.9060 - lr: 9.2670e-06\n",
      "Epoch 294/300\n",
      "54/54 [==============================] - 6s 113ms/step - loss: 0.0046 - custom_metric: 0.6824 - val_loss: 0.0071 - val_custom_metric: 0.9059 - lr: 7.2132e-06\n",
      "Epoch 295/300\n",
      "54/54 [==============================] - 6s 114ms/step - loss: 0.0046 - custom_metric: 0.6874 - val_loss: 0.0071 - val_custom_metric: 0.9117 - lr: 5.4327e-06\n",
      "Epoch 296/300\n",
      "54/54 [==============================] - 6s 113ms/step - loss: 0.0046 - custom_metric: 0.6871 - val_loss: 0.0071 - val_custom_metric: 0.9106 - lr: 3.9259e-06\n",
      "Epoch 297/300\n",
      "54/54 [==============================] - 6s 116ms/step - loss: 0.0045 - custom_metric: 0.6791 - val_loss: 0.0071 - val_custom_metric: 0.9167 - lr: 2.6926e-06\n",
      "Epoch 298/300\n",
      "54/54 [==============================] - 6s 114ms/step - loss: 0.0046 - custom_metric: 0.6840 - val_loss: 0.0071 - val_custom_metric: 0.9169 - lr: 1.7335e-06\n",
      "Epoch 299/300\n",
      "54/54 [==============================] - 6s 114ms/step - loss: 0.0045 - custom_metric: 0.6808 - val_loss: 0.0071 - val_custom_metric: 0.9209 - lr: 1.0483e-06\n",
      "Epoch 300/300\n",
      "54/54 [==============================] - 6s 114ms/step - loss: 0.0046 - custom_metric: 0.6880 - val_loss: 0.0071 - val_custom_metric: 0.9197 - lr: 6.3708e-07\n"
     ]
    }
   ],
   "source": [
    "History = model.fit(train_data,\n",
    "                    epochs=epochs,\n",
    "                    callbacks=[lr_callback],\n",
    "                    validation_data=val_data,\n",
    "                    validation_steps=1,\n",
    "                    verbose=1)\n",
    "\n",
    "#Export trained model\n",
    "model.save(saved_model_filepath)\n",
    "model.save(h5_filepath)"
   ]
  },
  {
   "cell_type": "markdown",
   "metadata": {
    "id": "9u7hfBLSkBAS"
   },
   "source": [
    "# Inference"
   ]
  },
  {
   "cell_type": "markdown",
   "metadata": {
    "id": "zTZuJyUvkWgZ"
   },
   "source": [
    "Test set preprocessing."
   ]
  },
  {
   "cell_type": "code",
   "execution_count": 12,
   "metadata": {
    "executionInfo": {
     "elapsed": 207,
     "status": "ok",
     "timestamp": 1679259163288,
     "user": {
      "displayName": "Sistemi Spaziali",
      "userId": "03880471792653564924"
     },
     "user_tz": -60
    },
    "id": "RphZPeJsgiwB"
   },
   "outputs": [],
   "source": [
    "test_data = load_tf_records(test_set_path).map(decode_dataset_test, num_parallel_calls=AUTO)\n",
    "\n",
    "test_data = test_data.map(lambda filename, patch, height, width: normalize_test(filename, patch, height, width, max_reflectance), num_parallel_calls=AUTO)    #normalize test dataset\n",
    "test_data = test_data.map(lambda filename, patch, height, width: preprocess_test(filename, patch, height, width,target_image_size), num_parallel_calls=AUTO).batch(1).prefetch(AUTO)    #batch and prefetch test dataset"
   ]
  },
  {
   "cell_type": "markdown",
   "metadata": {
    "id": "DTwygR8ekZE5"
   },
   "source": [
    "Load exported model."
   ]
  },
  {
   "cell_type": "code",
   "execution_count": 13,
   "metadata": {
    "executionInfo": {
     "elapsed": 1989,
     "status": "ok",
     "timestamp": 1679259168969,
     "user": {
      "displayName": "Sistemi Spaziali",
      "userId": "03880471792653564924"
     },
     "user_tz": -60
    },
    "id": "MuoQ5alMkYU5"
   },
   "outputs": [],
   "source": [
    "loaded_model = tf.keras.models.load_model(saved_model_filepath, custom_objects={'custom_metric': custom_metric})"
   ]
  },
  {
   "cell_type": "markdown",
   "metadata": {
    "id": "D6DT5L5zlyTB"
   },
   "source": [
    "Make inference and generate submission file."
   ]
  },
  {
   "cell_type": "code",
   "execution_count": 14,
   "metadata": {
    "executionInfo": {
     "elapsed": 32452,
     "status": "ok",
     "timestamp": 1679260146955,
     "user": {
      "displayName": "Sistemi Spaziali",
      "userId": "03880471792653564924"
     },
     "user_tz": -60
    },
    "id": "OKgGkloPl1o5"
   },
   "outputs": [],
   "source": [
    "filenames = np.array([],dtype=int)\n",
    "export_predictions =  []\n",
    "\n",
    "for filename, image, height, width in test_data:\n",
    "  filenames = np.append(filenames, int(filename.numpy()[0].decode().replace(\".npz\", \"\")))\n",
    "  predictions = loaded_model.predict(image,verbose=0)\n",
    "  \n",
    "  if label_normalization_mode == 0:\n",
    "        \n",
    "     predictions *= max_labels\n",
    "    \n",
    "  else:\n",
    "     predictions  = (predictions*std_labels)+mean_labels\n",
    "        \n",
    "  export_predictions.append(predictions.reshape([-1]))\n",
    "\n",
    "submission = pd.DataFrame(data=export_predictions, columns=[\"P\", \"K\", \"Mg\", \"pH\"])\n",
    "submission.index = filenames\n",
    "submission.to_csv(submission_name, index_label=\"sample_index\")\n",
    "\n",
    "with zipfile.ZipFile(submission_zip, mode='w') as zipf:\n",
    "    zipf.write(submission_name)"
   ]
  },
  {
   "cell_type": "code",
   "execution_count": null,
   "metadata": {},
   "outputs": [],
   "source": []
  }
 ],
 "metadata": {
  "colab": {
   "authorship_tag": "ABX9TyOaSxuzRRg6XkPDpDv1q+3u",
   "provenance": []
  },
  "kernelspec": {
   "display_name": "Python 3 (ipykernel)",
   "language": "python",
   "name": "python3"
  },
  "language_info": {
   "codemirror_mode": {
    "name": "ipython",
    "version": 3
   },
   "file_extension": ".py",
   "mimetype": "text/x-python",
   "name": "python",
   "nbconvert_exporter": "python",
   "pygments_lexer": "ipython3",
   "version": "3.9.16"
  }
 },
 "nbformat": 4,
 "nbformat_minor": 1
}
