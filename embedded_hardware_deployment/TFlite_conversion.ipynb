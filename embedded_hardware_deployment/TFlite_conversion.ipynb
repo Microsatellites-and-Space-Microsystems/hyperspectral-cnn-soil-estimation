{
 "cells": [
  {
   "cell_type": "markdown",
   "metadata": {
    "id": "vwIep7By1fzK"
   },
   "source": [
    "This notebook converts previously trained TensorFlow model to TensorFlow Lite models with no quantization.\n",
    "\n",
    "The procedure is set up to convert models in the Saved_Model format, it can be adapted to convert other formats: https://www.tensorflow.org/lite/models/convert"
   ]
  },
  {
   "cell_type": "markdown",
   "metadata": {
    "id": "zLG2lmcunIEi"
   },
   "source": [
    "Navigate to the working directory."
   ]
  },
  {
   "cell_type": "code",
   "execution_count": 1,
   "metadata": {
    "colab": {
     "base_uri": "https://localhost:8080/"
    },
    "executionInfo": {
     "elapsed": 5,
     "status": "ok",
     "timestamp": 1680195292753,
     "user": {
      "displayName": "Achille Ballabeni",
      "userId": "14746412021865354264"
     },
     "user_tz": -120
    },
    "id": "ZybeOxSfU61t",
    "outputId": "6c8a2961-390a-4b1c-e22c-59d44d829bc9"
   },
   "outputs": [
    {
     "name": "stdout",
     "output_type": "stream",
     "text": [
      "/home/microsat\n",
      "/home/microsat/hyperspectral-cnn-soil-estimation\n"
     ]
    }
   ],
   "source": [
    "%cd\n",
    "%cd hyperspectral-cnn-soil-estimation"
   ]
  },
  {
   "cell_type": "markdown",
   "metadata": {
    "id": "xY8LgZAlVasZ"
   },
   "source": [
    "Import libraries."
   ]
  },
  {
   "cell_type": "code",
   "execution_count": 2,
   "metadata": {
    "id": "hTRUO1QJnNB8"
   },
   "outputs": [],
   "source": [
    "import os, logging\n",
    "logging.disable(logging.WARNING)\n",
    "os.environ[\"TF_CPP_MIN_LOG_LEVEL\"] = \"3\"\n",
    "import tensorflow as tf"
   ]
  },
  {
   "cell_type": "markdown",
   "metadata": {
    "id": "zMJXOlDNmtxL"
   },
   "source": [
    "Define import and export directiories."
   ]
  },
  {
   "cell_type": "code",
   "execution_count": 3,
   "metadata": {
    "id": "mi4dZ_PBmlkK"
   },
   "outputs": [],
   "source": [
    "tf_model_dir = 'networks'\n",
    "tf_lite_model_dir = 'embedded_hardware_deployment/TFlite_networks/'"
   ]
  },
  {
   "cell_type": "markdown",
   "metadata": {
    "id": "P0CAcAJMm0_1"
   },
   "source": [
    "Find exported Saved_Model networks."
   ]
  },
  {
   "cell_type": "code",
   "execution_count": 4,
   "metadata": {
    "colab": {
     "base_uri": "https://localhost:8080/"
    },
    "executionInfo": {
     "elapsed": 6,
     "status": "ok",
     "timestamp": 1680195296716,
     "user": {
      "displayName": "Achille Ballabeni",
      "userId": "14746412021865354264"
     },
     "user_tz": -120
    },
    "id": "RJOKTDIIbgKA",
    "outputId": "508ace62-e72e-41f8-9646-40e93387d1b0"
   },
   "outputs": [
    {
     "name": "stdout",
     "output_type": "stream",
     "text": [
      "found model networks/competition_best_model\n"
     ]
    }
   ],
   "source": [
    "sources=[]\n",
    "for path in os.listdir(tf_model_dir):\n",
    "    full_path = os.path.join(tf_model_dir, path)\n",
    "    if os.path.isdir(full_path) :\n",
    "          print('found model %s' % full_path)\n",
    "          sources.append(full_path)"
   ]
  },
  {
   "cell_type": "markdown",
   "metadata": {
    "id": "BPQUTzmHnzOQ"
   },
   "source": [
    "Convert and export all networks."
   ]
  },
  {
   "cell_type": "code",
   "execution_count": 5,
   "metadata": {
    "id": "QFlVDTydaDDw"
   },
   "outputs": [],
   "source": [
    "for network in sources:\n",
    "  converter = tf.lite.TFLiteConverter.from_saved_model(network)\n",
    "  tflite_model = converter.convert()\n",
    "  out_name = tf_lite_model_dir + os.path.basename(network) + '.tflite'\n",
    "  open(out_name,'wb').write(tflite_model)"
   ]
  },
  {
   "cell_type": "code",
   "execution_count": null,
   "metadata": {},
   "outputs": [],
   "source": []
  }
 ],
 "metadata": {
  "colab": {
   "provenance": [
    {
     "file_id": "1t8cVzvYLU_aRavL9DJ2gBr8W5dF7YmeF",
     "timestamp": 1663942336773
    }
   ]
  },
  "kernelspec": {
   "display_name": "Python 3 (ipykernel)",
   "language": "python",
   "name": "python3"
  },
  "language_info": {
   "codemirror_mode": {
    "name": "ipython",
    "version": 3
   },
   "file_extension": ".py",
   "mimetype": "text/x-python",
   "name": "python",
   "nbconvert_exporter": "python",
   "pygments_lexer": "ipython3",
   "version": "3.9.16"
  }
 },
 "nbformat": 4,
 "nbformat_minor": 1
}
