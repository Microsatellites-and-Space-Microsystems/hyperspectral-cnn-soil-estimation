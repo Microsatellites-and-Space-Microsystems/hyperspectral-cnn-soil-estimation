{
 "cells": [
  {
   "cell_type": "markdown",
   "metadata": {
    "id": "hR49SNx8Q4D1"
   },
   "source": [
    "This notebook shows how to convert train and test datasets to TFRecord file format.\n",
    "\n",
    "Steps to follow:\n",
    "\n",
    "1.   Sign in to the competition and download *Test data* and *Train data* from: https://platform.ai4eo.eu/seeing-beyond-the-visible-permanent/data\n",
    "2.  unzip *test_data.zip* in `hyperspectral-cnn-soil-estimation/dataset/test_data` and unzip *train_data.zip* in `hyperspectral-cnn-soil-estimation/dataset/train_data`\n",
    "3. Run this notebook: the resulting TFRecord files will be saved in `hyperspectral-cnn-soil-estimation/dataset`\n",
    "\n",
    "\n"
   ]
  },
  {
   "cell_type": "code",
   "execution_count": 1,
   "metadata": {
    "colab": {
     "base_uri": "https://localhost:8080/"
    },
    "executionInfo": {
     "elapsed": 1657,
     "status": "ok",
     "timestamp": 1679223224517,
     "user": {
      "displayName": "Sistemi Spaziali",
      "userId": "03880471792653564924"
     },
     "user_tz": -60
    },
    "id": "H1G2vF54LHlG",
    "outputId": "f721cdc8-cb0d-4a63-f643-4fb240f34fde"
   },
   "outputs": [],
   "source": [
    "#Import all required packages\n",
    "import os, logging, io\n",
    "logging.disable(logging.WARNING)\n",
    "os.environ[\"TF_CPP_MIN_LOG_LEVEL\"] = \"3\"\n",
    "import pandas as pd\n",
    "import tensorflow as tf\n",
    "from tfrecord_utilities import *\n",
    "from PIL import Image\n",
    "import numpy as np"
   ]
  },
  {
   "cell_type": "code",
   "execution_count": 2,
   "metadata": {
    "colab": {
     "base_uri": "https://localhost:8080/"
    },
    "executionInfo": {
     "elapsed": 9,
     "status": "ok",
     "timestamp": 1679223215811,
     "user": {
      "displayName": "Sistemi Spaziali",
      "userId": "03880471792653564924"
     },
     "user_tz": -60
    },
    "id": "4P89l62eaOlJ",
    "outputId": "fea5281f-4499-4cec-9c1a-ac9bc6bb20a0"
   },
   "outputs": [
    {
     "name": "stdout",
     "output_type": "stream",
     "text": [
      "/home/microsat\n",
      "/home/microsat/hyperspectral-cnn-soil-estimation/dataset\n"
     ]
    }
   ],
   "source": [
    "%cd\n",
    "%cd hyperspectral-cnn-soil-estimation/dataset"
   ]
  },
  {
   "cell_type": "markdown",
   "metadata": {},
   "source": [
    "# Test set"
   ]
  },
  {
   "cell_type": "markdown",
   "metadata": {},
   "source": [
    "Define directories"
   ]
  },
  {
   "cell_type": "code",
   "execution_count": 3,
   "metadata": {
    "executionInfo": {
     "elapsed": 2,
     "status": "ok",
     "timestamp": 1679223323323,
     "user": {
      "displayName": "Sistemi Spaziali",
      "userId": "03880471792653564924"
     },
     "user_tz": -60
    },
    "id": "CCOB2A10KIn9"
   },
   "outputs": [],
   "source": [
    "images_dir='test_data/test_data'\n",
    "csv_dir='test_gt_v2.csv'\n",
    "output_path='test_tfrecords{}.record'"
   ]
  },
  {
   "cell_type": "markdown",
   "metadata": {
    "id": "dyzQdRv9zDnx"
   },
   "source": [
    "Run the following cell to create the TFRecord file"
   ]
  },
  {
   "cell_type": "code",
   "execution_count": 4,
   "metadata": {
    "colab": {
     "base_uri": "https://localhost:8080/"
    },
    "executionInfo": {
     "elapsed": 13400,
     "status": "ok",
     "timestamp": 1679223339740,
     "user": {
      "displayName": "Sistemi Spaziali",
      "userId": "03880471792653564924"
     },
     "user_tz": -60
    },
    "id": "IoviZ8YMLFS7",
    "outputId": "076aa474-1941-4b61-fb24-307228420654",
    "scrolled": true
   },
   "outputs": [
    {
     "name": "stdout",
     "output_type": "stream",
     "text": [
      "Successfully created the TFRecord file: test_tfrecords0.record\n"
     ]
    }
   ],
   "source": [
    "#Define the desired number of TFRecords files\n",
    "number_of_tfrecords_files=1\n",
    "\n",
    "#Read csv file content\n",
    "csv = pd.read_csv(csv_dir).values\n",
    "\n",
    "#Sequentially read the dataset and write TFRecord(s)\n",
    "number_of_images_per_file=np.floor(len(csv)/number_of_tfrecords_files).astype('int32')\n",
    "images_processed=0\n",
    "images_index_start=0\n",
    "images_index_end=number_of_images_per_file\n",
    "\n",
    "for i in range(number_of_tfrecords_files):\n",
    "    writer = tf.io.TFRecordWriter(output_path.format(i))\n",
    "    \n",
    "    \n",
    "    for row in csv[images_index_start:images_index_end]:\n",
    "      images_processed+=1\n",
    "      features=row\n",
    "      images_dir_full = os.path.join(images_dir)\n",
    "      \n",
    "      \n",
    "      tf_example = create_tf_example_test(row, images_dir_full)\n",
    "      writer.write(tf_example.SerializeToString())\n",
    "\n",
    "    images_index_start=images_index_end\n",
    "    images_index_end=(i+2)*number_of_images_per_file\n",
    "\n",
    "    if i==number_of_tfrecords_files-2:\n",
    "      images_index_end=len(csv)\n",
    "    writer.close()\n",
    "    print('Successfully created the TFRecord file: {}'.format(output_path.format(i)))"
   ]
  },
  {
   "cell_type": "markdown",
   "metadata": {},
   "source": [
    "# Train set"
   ]
  },
  {
   "cell_type": "markdown",
   "metadata": {},
   "source": [
    "Define directories"
   ]
  },
  {
   "cell_type": "code",
   "execution_count": 5,
   "metadata": {},
   "outputs": [],
   "source": [
    "#Define directories\n",
    "images_dir='train_data/train_data/train_data'\n",
    "csv_dir='train_data/train_data/train_gt.csv'\n",
    "output_path='train_tfrecords{}.record'"
   ]
  },
  {
   "cell_type": "markdown",
   "metadata": {
    "id": "dyzQdRv9zDnx"
   },
   "source": [
    "Run the following cell to create the TFRecord file"
   ]
  },
  {
   "cell_type": "code",
   "execution_count": 6,
   "metadata": {},
   "outputs": [
    {
     "name": "stdout",
     "output_type": "stream",
     "text": [
      "Successfully created the TFRecord file: train_tfrecords0.record\n"
     ]
    }
   ],
   "source": [
    "#Define the desired number of TFRecords files\n",
    "number_of_tfrecords_files=1\n",
    "\n",
    "#Read csv file content\n",
    "csv = pd.read_csv(csv_dir).values\n",
    "\n",
    "#Sequentially read the dataset and write TFRecord(s)\n",
    "number_of_images_per_file=np.floor(len(csv)/number_of_tfrecords_files).astype('int32')\n",
    "images_processed=0\n",
    "images_index_start=0\n",
    "images_index_end=number_of_images_per_file\n",
    "\n",
    "for i in range(number_of_tfrecords_files):\n",
    "    writer = tf.io.TFRecordWriter(output_path.format(i))\n",
    "    \n",
    "    \n",
    "    for row in csv[images_index_start:images_index_end]:\n",
    "      images_processed+=1\n",
    "      features=row\n",
    "      images_dir_full = os.path.join(images_dir)\n",
    "      \n",
    "      \n",
    "      tf_example = create_tf_example_train(row, images_dir_full)\n",
    "      writer.write(tf_example.SerializeToString())\n",
    "\n",
    "    images_index_start=images_index_end\n",
    "    images_index_end=(i+2)*number_of_images_per_file\n",
    "\n",
    "    if i==number_of_tfrecords_files-2:\n",
    "      images_index_end=len(csv)\n",
    "    writer.close()\n",
    "    print('Successfully created the TFRecord file: {}'.format(output_path.format(i)))"
   ]
  },
  {
   "cell_type": "code",
   "execution_count": null,
   "metadata": {},
   "outputs": [],
   "source": []
  }
 ],
 "metadata": {
  "colab": {
   "provenance": []
  },
  "kernelspec": {
   "display_name": "Python 3 (ipykernel)",
   "language": "python",
   "name": "python3"
  },
  "language_info": {
   "codemirror_mode": {
    "name": "ipython",
    "version": 3
   },
   "file_extension": ".py",
   "mimetype": "text/x-python",
   "name": "python",
   "nbconvert_exporter": "python",
   "pygments_lexer": "ipython3",
   "version": "3.9.16"
  }
 },
 "nbformat": 4,
 "nbformat_minor": 1
}
